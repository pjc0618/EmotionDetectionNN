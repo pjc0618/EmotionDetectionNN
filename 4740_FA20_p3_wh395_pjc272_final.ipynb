{
  "nbformat": 4,
  "nbformat_minor": 0,
  "metadata": {
    "accelerator": "GPU",
    "colab": {
      "name": "4740_FA20_p3_wh395_pjc272.ipynb",
      "provenance": [],
      "collapsed_sections": [],
      "toc_visible": true
    },
    "kernelspec": {
      "display_name": "Python 3",
      "name": "python3"
    },
    "widgets": {
      "application/vnd.jupyter.widget-state+json": {
        "70d7d2362e6843e2be425654226efcdc": {
          "model_module": "@jupyter-widgets/controls",
          "model_name": "HBoxModel",
          "state": {
            "_view_name": "HBoxView",
            "_dom_classes": [],
            "_model_name": "HBoxModel",
            "_view_module": "@jupyter-widgets/controls",
            "_model_module_version": "1.5.0",
            "_view_count": null,
            "_view_module_version": "1.5.0",
            "box_style": "",
            "layout": "IPY_MODEL_66c034c8c6c14daf91841a159ee3f953",
            "_model_module": "@jupyter-widgets/controls",
            "children": [
              "IPY_MODEL_f94125c05bfb4ea895f4f1a1ca3987d7",
              "IPY_MODEL_3917cdcc1d034a14b5e9765437fa290c"
            ]
          }
        },
        "66c034c8c6c14daf91841a159ee3f953": {
          "model_module": "@jupyter-widgets/base",
          "model_name": "LayoutModel",
          "state": {
            "_view_name": "LayoutView",
            "grid_template_rows": null,
            "right": null,
            "justify_content": null,
            "_view_module": "@jupyter-widgets/base",
            "overflow": null,
            "_model_module_version": "1.2.0",
            "_view_count": null,
            "flex_flow": null,
            "width": null,
            "min_width": null,
            "border": null,
            "align_items": null,
            "bottom": null,
            "_model_module": "@jupyter-widgets/base",
            "top": null,
            "grid_column": null,
            "overflow_y": null,
            "overflow_x": null,
            "grid_auto_flow": null,
            "grid_area": null,
            "grid_template_columns": null,
            "flex": null,
            "_model_name": "LayoutModel",
            "justify_items": null,
            "grid_row": null,
            "max_height": null,
            "align_content": null,
            "visibility": null,
            "align_self": null,
            "height": null,
            "min_height": null,
            "padding": null,
            "grid_auto_rows": null,
            "grid_gap": null,
            "max_width": null,
            "order": null,
            "_view_module_version": "1.2.0",
            "grid_template_areas": null,
            "object_position": null,
            "object_fit": null,
            "grid_auto_columns": null,
            "margin": null,
            "display": null,
            "left": null
          }
        },
        "f94125c05bfb4ea895f4f1a1ca3987d7": {
          "model_module": "@jupyter-widgets/controls",
          "model_name": "FloatProgressModel",
          "state": {
            "_view_name": "ProgressView",
            "style": "IPY_MODEL_ed6e2c1b32eb447499d06117a5ba69a1",
            "_dom_classes": [],
            "description": "100%",
            "_model_name": "FloatProgressModel",
            "bar_style": "success",
            "max": 1934,
            "_view_module": "@jupyter-widgets/controls",
            "_model_module_version": "1.5.0",
            "value": 1934,
            "_view_count": null,
            "_view_module_version": "1.5.0",
            "orientation": "horizontal",
            "min": 0,
            "description_tooltip": null,
            "_model_module": "@jupyter-widgets/controls",
            "layout": "IPY_MODEL_1b9b8cc52511442393939fb8135615db"
          }
        },
        "3917cdcc1d034a14b5e9765437fa290c": {
          "model_module": "@jupyter-widgets/controls",
          "model_name": "HTMLModel",
          "state": {
            "_view_name": "HTMLView",
            "style": "IPY_MODEL_da746adbd8eb4c75a4ea37fa3feb6b4f",
            "_dom_classes": [],
            "description": "",
            "_model_name": "HTMLModel",
            "placeholder": "​",
            "_view_module": "@jupyter-widgets/controls",
            "_model_module_version": "1.5.0",
            "value": " 1934/1934 [00:04&lt;00:00, 390.18it/s]",
            "_view_count": null,
            "_view_module_version": "1.5.0",
            "description_tooltip": null,
            "_model_module": "@jupyter-widgets/controls",
            "layout": "IPY_MODEL_9709291e6d0845cfa3fbe9c0e8357afe"
          }
        },
        "ed6e2c1b32eb447499d06117a5ba69a1": {
          "model_module": "@jupyter-widgets/controls",
          "model_name": "ProgressStyleModel",
          "state": {
            "_view_name": "StyleView",
            "_model_name": "ProgressStyleModel",
            "description_width": "initial",
            "_view_module": "@jupyter-widgets/base",
            "_model_module_version": "1.5.0",
            "_view_count": null,
            "_view_module_version": "1.2.0",
            "bar_color": null,
            "_model_module": "@jupyter-widgets/controls"
          }
        },
        "1b9b8cc52511442393939fb8135615db": {
          "model_module": "@jupyter-widgets/base",
          "model_name": "LayoutModel",
          "state": {
            "_view_name": "LayoutView",
            "grid_template_rows": null,
            "right": null,
            "justify_content": null,
            "_view_module": "@jupyter-widgets/base",
            "overflow": null,
            "_model_module_version": "1.2.0",
            "_view_count": null,
            "flex_flow": null,
            "width": null,
            "min_width": null,
            "border": null,
            "align_items": null,
            "bottom": null,
            "_model_module": "@jupyter-widgets/base",
            "top": null,
            "grid_column": null,
            "overflow_y": null,
            "overflow_x": null,
            "grid_auto_flow": null,
            "grid_area": null,
            "grid_template_columns": null,
            "flex": null,
            "_model_name": "LayoutModel",
            "justify_items": null,
            "grid_row": null,
            "max_height": null,
            "align_content": null,
            "visibility": null,
            "align_self": null,
            "height": null,
            "min_height": null,
            "padding": null,
            "grid_auto_rows": null,
            "grid_gap": null,
            "max_width": null,
            "order": null,
            "_view_module_version": "1.2.0",
            "grid_template_areas": null,
            "object_position": null,
            "object_fit": null,
            "grid_auto_columns": null,
            "margin": null,
            "display": null,
            "left": null
          }
        },
        "da746adbd8eb4c75a4ea37fa3feb6b4f": {
          "model_module": "@jupyter-widgets/controls",
          "model_name": "DescriptionStyleModel",
          "state": {
            "_view_name": "StyleView",
            "_model_name": "DescriptionStyleModel",
            "description_width": "",
            "_view_module": "@jupyter-widgets/base",
            "_model_module_version": "1.5.0",
            "_view_count": null,
            "_view_module_version": "1.2.0",
            "_model_module": "@jupyter-widgets/controls"
          }
        },
        "9709291e6d0845cfa3fbe9c0e8357afe": {
          "model_module": "@jupyter-widgets/base",
          "model_name": "LayoutModel",
          "state": {
            "_view_name": "LayoutView",
            "grid_template_rows": null,
            "right": null,
            "justify_content": null,
            "_view_module": "@jupyter-widgets/base",
            "overflow": null,
            "_model_module_version": "1.2.0",
            "_view_count": null,
            "flex_flow": null,
            "width": null,
            "min_width": null,
            "border": null,
            "align_items": null,
            "bottom": null,
            "_model_module": "@jupyter-widgets/base",
            "top": null,
            "grid_column": null,
            "overflow_y": null,
            "overflow_x": null,
            "grid_auto_flow": null,
            "grid_area": null,
            "grid_template_columns": null,
            "flex": null,
            "_model_name": "LayoutModel",
            "justify_items": null,
            "grid_row": null,
            "max_height": null,
            "align_content": null,
            "visibility": null,
            "align_self": null,
            "height": null,
            "min_height": null,
            "padding": null,
            "grid_auto_rows": null,
            "grid_gap": null,
            "max_width": null,
            "order": null,
            "_view_module_version": "1.2.0",
            "grid_template_areas": null,
            "object_position": null,
            "object_fit": null,
            "grid_auto_columns": null,
            "margin": null,
            "display": null,
            "left": null
          }
        }
      }
    }
  },
  "cells": [
    {
      "cell_type": "markdown",
      "metadata": {
        "id": "tKXy67DinoL9"
      },
      "source": [
        ""
      ]
    },
    {
      "cell_type": "markdown",
      "metadata": {
        "id": "epRaBvj_bapY"
      },
      "source": [
        "# Project 3: Emotion detection with Neural Networks\n",
        "## CS4740/5740 Fall 2020\n",
        "\n",
        "Names: Wesley Ho, Phil Cipollina\n",
        "\n",
        "Netids: wh395, pjc272\n",
        "\n",
        "### Project Submission Due: November 13th\n",
        "Please submit **pdf file** of this notebook on **Gradescope**, and **ipynb** on **CMS**. For instructions on generating pdf and ipynb files, please refer to project 1 instructions.\n",
        "\n"
      ]
    },
    {
      "cell_type": "markdown",
      "metadata": {
        "id": "EIEkIveBVYyU"
      },
      "source": [
        "## Introduction\n",
        "In this project we will consider **neural networks**: first a Feedforward Neural Network (FFNN) and second a Recurrent Neural Network (RNN), for performing a 5-class emotion detection task.\n",
        "\n",
        "The project is divided into parts. In **Part 1**, you will be given an implementation for a FFNN and be asked to debug it in a specific way. In **Part 2**, you will then implement an RNN model for performing the same task. In **Part 3**, you will analyze these two models in two types of comparative studies and in **Part 4** you will answer questions describing what you have learned through this project. You also will be required to submit a description of libraries used, how your group divided up the work, and your feedback regarding the assignment (**Part 5**)."
      ]
    },
    {
      "cell_type": "markdown",
      "metadata": {
        "id": "-1HSug5yWVrI"
      },
      "source": [
        "## Advice 🚀\n",
        "As always, the report is important! The report is where you get to show\n",
        "that you understand not only what you are doing but also why and how you are doing it. So be clear, organized and concise; avoid vagueness and excess verbiage. Spend time doing error analysis for the models. This is how you understand the advantages and drawbacks of the systems you build. The reports should read more like the papers that we have been writing critiques for."
      ]
    },
    {
      "cell_type": "markdown",
      "metadata": {
        "id": "ViSV4Cf86Qed"
      },
      "source": [
        "All throughout the report you may be asked to place images, plots, etc. Feel free to write code that will generate the plots for you and use those or generate them some other way and insert into the colab. To add images in your colab, these are a few possible ways to do it!\n",
        "\n",
        "1. Copy and paste the image in markdown! Yes this really does work\n",
        "\n",
        "2. Upload to google drive, get a shareable link. It will be something like:\n",
        "\n",
        "```\n",
        "https://drive.google.com/file/d/1xDrydbSbijvK2JBftUz-5ovagN2B_RWH/view?usp=sharing\n",
        "```\n",
        "We want just the id which is `1xDrydbSbijvK2JBftUz-5ovagN2B_RWH` and the link we will use is:\n",
        "\n",
        "```\n",
        "https://drive.google.com/uc?export=view&id=your_id\n",
        "```\n",
        "\n",
        "Then in markdown you'd write the following:\n",
        "\n",
        "```markdown\n",
        "![image](https://drive.google.com/uc?export=view&id=1xDrydbSbijvK2JBftUz-5ovagN2B_RWH)\n",
        "```\n",
        "\n",
        "3. Using IPython!\n",
        "```python\n",
        "from IPython.display import Image\n",
        "Image(filename=\"drive/GPU/data/iris.PNG\")\n",
        "```\n",
        "\n",
        "4. Using your connected GDrive\n",
        "```markdown\n",
        "![iris](drive/GPU/data/iris.PNG)\n",
        "```"
      ]
    },
    {
      "cell_type": "markdown",
      "metadata": {
        "id": "-fyl3-8TWyR9"
      },
      "source": [
        "## Dataset\n",
        "You are given access to a set of tweets. These tweets have an associated\n",
        "emotion $y \\in Y := \\{anger, fear, joy, love, sadness\\}$. For this project, given the review text, you will\n",
        "need to predict the associated rating, y. This is sometimes called fine-grained sentiment analysis in the literature; we will simply refer to it as sentiment analysis in this project.\n",
        "\n",
        "We will minimally preprocess the reviews and handle tokenization in what we re-\n",
        "lease. For this assignment, we do not anticipate any further preprocessing to be done by you. Should you choose to do so, it would be interesting to hear about in the report (along with whether or not it helped performance), but it is not a required aspect of the assignment.\n"
      ]
    },
    {
      "cell_type": "code",
      "metadata": {
        "colab": {
          "base_uri": "https://localhost:8080/"
        },
        "id": "ARl1pk1PGL2Y",
        "outputId": "49e4d852-5073-4a6e-f029-32b06c6f7f65"
      },
      "source": [
        "from google.colab import drive\n",
        "import os\n",
        "drive.mount('/content/drive', force_remount=True)\n",
        "\n",
        "train_path = os.path.join(os.getcwd(), \"drive\", \"My Drive\", \"CS 4740\", \"Project 3\", \"p3_train.txt\") # replace based on your Google drive organization\n",
        "val_path = os.path.join(os.getcwd(), \"drive\", \"My Drive\", \"CS 4740\", \"Project 3\", \"p3_val.txt\") # replace based on your Google drive organization\n",
        "test_path = os.path.join(os.getcwd(), \"drive\", \"My Drive\", \"CS 4740\", \"Project 3\", \"p3_test_no_labels.txt\") # replace based on your Google drive organization"
      ],
      "execution_count": 1,
      "outputs": [
        {
          "output_type": "stream",
          "text": [
            "Mounted at /content/drive\n"
          ],
          "name": "stdout"
        }
      ]
    },
    {
      "cell_type": "markdown",
      "metadata": {
        "id": "rD5wwTl3W3CO"
      },
      "source": [
        "# Part 1: Feedforward Neural Network\n",
        "\n",
        "In this section, there are two main components relevant to **Part 1**.\n",
        "\n",
        "1. `Data loader`\\\n",
        "As the name suggests, this section loads the data from the dataset files and handles other preprocessing and setup. You will **not** need to change this file and should **not** change this file throughout the assignment.\n",
        "\n",
        "2. `ffnn`\\\n",
        "This contains the model and code that uses the model for **Part 1**\n",
        "\n",
        "In the `ffnn` section, you will find a Feedforward Neural Net serving as the underlying model for performing emotion detection.\n",
        "\n"
      ]
    },
    {
      "cell_type": "markdown",
      "metadata": {
        "id": "ciCL-fBNaErA"
      },
      "source": [
        "## Part 1: Tips\n",
        "\n",
        "We do not assume you have **any** experience working with neural networks and/or debugging them. You may discover this process, while similar, is quite different from debuging in general software engineering and from debugging in other domains such as algorithms and systems.\n",
        "\n",
        "We suggest you systematically step through the code and simultanously (perhaps by physically drawing it out) describe what the computations _mean_. What you are looking for is where the code differs from what is expected."
      ]
    },
    {
      "cell_type": "markdown",
      "metadata": {
        "id": "pzGvj2WzaJNh"
      },
      "source": [
        "## Part 1: Rules\n",
        "\n",
        "For **Part 1**, you will not be able to ask any questions on Piazza and we will be unable to provide any meaningful advice in office hours. Unfortunately, this is the nature of debugging, it is unlikely anyone can give you specific advice for most problems you encounter and we have already provided general tips in the preceding section, If you absolutely must ask a question or you believe there is some kind of issue with the assignment for this part, please submit a private Piazza post and we will respond swiftly.\n",
        "\n",
        "As a reminder **communication about the assignment _between_ distinct groups is not permissed and is a violation of the Academic Integrity policy** For this assignment, we will be _extremely_ stringent about this, given that debugging is entirely pointless if someone else in a different group tells you where the error is."
      ]
    },
    {
      "cell_type": "markdown",
      "metadata": {
        "id": "qeC3pYiebc6r"
      },
      "source": [
        "## Import libraries and connect to Google Drive"
      ]
    },
    {
      "cell_type": "code",
      "metadata": {
        "id": "0PNS0GO7TSLF",
        "colab": {
          "base_uri": "https://localhost:8080/"
        },
        "outputId": "33b9e3fa-1374-4f8c-a62e-f7579db946e6"
      },
      "source": [
        "!pip install --upgrade torch"
      ],
      "execution_count": 2,
      "outputs": [
        {
          "output_type": "stream",
          "text": [
            "Requirement already up-to-date: torch in /usr/local/lib/python3.6/dist-packages (1.7.0+cu101)\n",
            "Requirement already satisfied, skipping upgrade: numpy in /usr/local/lib/python3.6/dist-packages (from torch) (1.18.5)\n",
            "Requirement already satisfied, skipping upgrade: typing-extensions in /usr/local/lib/python3.6/dist-packages (from torch) (3.7.4.3)\n",
            "Requirement already satisfied, skipping upgrade: future in /usr/local/lib/python3.6/dist-packages (from torch) (0.16.0)\n",
            "Requirement already satisfied, skipping upgrade: dataclasses in /usr/local/lib/python3.6/dist-packages (from torch) (0.7)\n"
          ],
          "name": "stdout"
        }
      ]
    },
    {
      "cell_type": "code",
      "metadata": {
        "id": "quIJujja-jS2"
      },
      "source": [
        "import json\n",
        "import math\n",
        "import os\n",
        "from pathlib import Path\n",
        "import random\n",
        "import time\n",
        "from tqdm.notebook import tqdm, trange\n",
        "from typing import Dict, List, Set, Tuple\n",
        "import time\n",
        "\n",
        "import numpy as np\n",
        "import pandas as pd\n",
        "import torch\n",
        "import torch.nn as nn\n",
        "from torch.nn import init\n",
        "import torch.optim as optim\n",
        "from torch.utils.data import Dataset, DataLoader, SubsetRandomSampler\n",
        "from tqdm.notebook import tqdm, trange\n",
        "import matplotlib.pyplot as plt\n"
      ],
      "execution_count": 2,
      "outputs": []
    },
    {
      "cell_type": "markdown",
      "metadata": {
        "id": "TU8Yq_dMbhtQ"
      },
      "source": [
        "## Data loader"
      ]
    },
    {
      "cell_type": "code",
      "metadata": {
        "id": "pfVaPnSf1WU-"
      },
      "source": [
        "emotion_to_idx = {\n",
        "    \"anger\": 0,\n",
        "    \"fear\": 1,\n",
        "    \"joy\": 2,\n",
        "    \"love\": 3,\n",
        "    \"sadness\": 4,\n",
        "    # \"surprise\": 5,\n",
        "}\n",
        "idx_to_emotion = {v: k for k, v in emotion_to_idx.items()}\n",
        "UNK = \"<UNK>\""
      ],
      "execution_count": 3,
      "outputs": []
    },
    {
      "cell_type": "code",
      "metadata": {
        "id": "5ajMvRL3b2sz"
      },
      "source": [
        "def fetch_data(train_data_path, val_data_path, test_data_path):\n",
        "    \"\"\"fetch_data retrieves the data from a json/csv and outputs the validation\n",
        "    and training data\n",
        "\n",
        "    :param train_data_path:\n",
        "    :type train_data_path: str\n",
        "    :return: Training, validation pair where the training is a list of document, label pairs\n",
        "    :rtype: Tuple[\n",
        "        List[Tuple[List[str], int]],\n",
        "        List[Tuple[List[str], int]],\n",
        "        List[List[str]]\n",
        "    ]\n",
        "    \"\"\"\n",
        "    with open(train_data_path) as training_f:\n",
        "        training = training_f.read().split(\"\\n\")[1:-1]\n",
        "    with open(val_data_path) as valid_f:\n",
        "        validation = valid_f.read().split(\"\\n\")[1:-1]\n",
        "    with open(test_data_path) as testing_f:\n",
        "        testing = testing_f.read().split(\"\\n\")[1:-1]\n",
        "\t\n",
        "    # If needed you can shrink the training and validation data to speed up somethings but this isn't always safe to do by setting k < 10000\n",
        "    # k = #fill in\n",
        "    # training = random.shuffle(training)\n",
        "    # validation = random.shuffle(validation)\n",
        "    # training, validation = training[:k], validation[:(k // 10)]\n",
        "\n",
        "    tra = []\n",
        "    val = []\n",
        "    test = []\n",
        "    for elt in training:\n",
        "        if elt == '':\n",
        "            continue\n",
        "        txt, emotion = elt.split(\",\")\n",
        "        tra.append((txt.split(\" \"), emotion_to_idx[emotion]))\n",
        "    for elt in validation:\n",
        "        if elt == '':\n",
        "            continue\n",
        "        txt, emotion = elt.split(\",\")\n",
        "        val.append((txt.split(\" \"), emotion_to_idx[emotion]))\n",
        "    for elt in testing:\n",
        "        if elt == '':\n",
        "            continue\n",
        "        txt = elt\n",
        "        test.append(txt.split(\" \"))\n",
        "\n",
        "    return tra, val, test"
      ],
      "execution_count": 4,
      "outputs": []
    },
    {
      "cell_type": "code",
      "metadata": {
        "id": "GucjLU2dXztT"
      },
      "source": [
        "def make_vocab(data):\n",
        "    \"\"\"make_vocab creates a set of vocab words that the model knows\n",
        "\n",
        "    :param data: The list of documents that is used to make the vocabulary\n",
        "    :type data: List[str]\n",
        "    :returns: A set of strings corresponding to the vocabulary\n",
        "    :rtype: Set[str]\n",
        "    \"\"\"\n",
        "    vocab = set()\n",
        "    for document, _ in data:\n",
        "        for word in document:\n",
        "            vocab.add(word)\n",
        "    return vocab \n",
        "\n",
        "\n",
        "def make_indices(vocab):\n",
        "\t\"\"\"make_indices creates a 1-1 mapping of word and indices for a vocab.\n",
        "\n",
        "\t:param vocab: The strings corresponding to the vocabulary in train data.\n",
        "\t:type vocab: Set[str]\n",
        "\t:returns: A tuple containing the vocab, word2index, and index2word.\n",
        "\t\tvocab is a set of strings in the vocabulary including <UNK>.\n",
        "\t\tword2index is a dictionary mapping tokens to its index (0, ..., V-1)\n",
        "\t\tindex2word is a dictionary inverting the mapping of word2index\n",
        "\t:rtype: Tuple[\n",
        "\t\tSet[str],\n",
        "\t\tDict[str, int],\n",
        "\t\tDict[int, str],\n",
        "\t]\n",
        "\t\"\"\"\n",
        "\tvocab_list = sorted(vocab)\n",
        "\tvocab_list.append(UNK)\n",
        "\tword2index = {}\n",
        "\tindex2word = {}\n",
        "\tfor index, word in enumerate(vocab_list):\n",
        "\t\tword2index[word] = index \n",
        "\t\tindex2word[index] = word \n",
        "\tvocab.add(UNK)\n",
        "\treturn vocab, word2index, index2word \n",
        "\n",
        "\n",
        "def convert_to_vector_representation(data, word2index, test=False):\n",
        "\t\"\"\"convert_to_vector_representation converts the list of strings into a vector\n",
        "\n",
        "\t:param data: The dataset to be converted into a vectorized format\n",
        "\t:type data: Union[\n",
        "\t\tList[Tuple[List[str], int]],\n",
        "\t\tList[str],\n",
        "\t]\n",
        "\t:param word2index: A mapping of word to index\n",
        "\t:type word2index: Dict[str, int]\n",
        "\t:returns: A list of vector representations of the input or pairs of vector\n",
        "\t\trepresentations with expected output\n",
        "\t:rtype: List[Tuple[torch.Tensor, int]] or List[torch.Tensor]\n",
        "\n",
        "\tList[Tuple[List[torch.Tensor], int]] or List[List[torch.Tensor]]\n",
        "\t\"\"\"\n",
        "\tif test:\n",
        "\t\tvectorized_data = []\n",
        "\t\tfor document in data:\n",
        "\t\t\tvector = torch.zeros(len(word2index))\n",
        "\t\t\tfor word in document:\n",
        "\t\t\t\tindex = word2index.get(word, word2index[UNK])\n",
        "\t\t\t\tvector[index] += 1\n",
        "\t\t\tvectorized_data.append(vector)\n",
        "\telse:\n",
        "\t\tvectorized_data = []\n",
        "\t\tfor document, y in data:\n",
        "\t\t\tvector = torch.zeros(len(word2index)) \n",
        "\t\t\tfor word in document:\n",
        "\t\t\t\tindex = word2index.get(word, word2index[UNK])\n",
        "\t\t\t\tvector[index] += 1\n",
        "\t\t\tvectorized_data.append((vector, y))\n",
        "\treturn vectorized_data"
      ],
      "execution_count": 5,
      "outputs": []
    },
    {
      "cell_type": "code",
      "metadata": {
        "id": "4vDZVRVG_WAp"
      },
      "source": [
        "class EmotionDataset(Dataset):\n",
        "    \"\"\"EmotionDataset is a torch dataset to interact with the emotion data.\n",
        "\n",
        "    :param data: The vectorized dataset with input and expected output values\n",
        "    :type data: List[Tuple[List[torch.Tensor], int]]\n",
        "    \"\"\"\n",
        "    def __init__(self, data):\n",
        "        # print(\"tweet x10000 is:\", data[10000][0].size())\n",
        "        # print(data[10000])\n",
        "        # print(\"x1 is:\", data[1][0].size())\n",
        "        # print(data[1])\n",
        "        self.X = torch.cat([X.unsqueeze(0) for X, _ in data])\n",
        "        self.y = torch.LongTensor([y for _, y in data])\n",
        "        self.len = len(data)\n",
        "    \n",
        "    def __len__(self):\n",
        "        \"\"\"__len__ returns the number of samples in the dataset.\n",
        "\n",
        "        :returns: number of samples in dataset\n",
        "        :rtype: int\n",
        "        \"\"\"\n",
        "        return self.len\n",
        "    \n",
        "    def __getitem__(self, index):\n",
        "        \"\"\"__getitem__ returns the tensor, output pair for a given index\n",
        "\n",
        "        :param index: index within dataset to return\n",
        "        :type index: int\n",
        "        :returns: A tuple (x, y) where x is model input and y is our label\n",
        "        :rtype: Tuple[torch.Tensor, int]\n",
        "        \"\"\"\n",
        "        return self.X[index], self.y[index]\n",
        "\n",
        "def get_data_loaders(train, val, batch_size=16):\n",
        "    \"\"\"\n",
        "    \"\"\"\n",
        "    # First we create the dataset given our train and validation lists\n",
        "    dataset = EmotionDataset(train + val)\n",
        "\n",
        "    # Then, we create a list of indices for all samples in the dataset\n",
        "    train_indices = [i for i in range(len(train))]\n",
        "    val_indices = [i for i in range(len(train), len(train) + len(val))]\n",
        "\n",
        "    # Now we define samplers and loaders for train and val\n",
        "    train_sampler = SubsetRandomSampler(train_indices)\n",
        "    train_loader = DataLoader(dataset, batch_size=batch_size, sampler=train_sampler)\n",
        "    \n",
        "    val_sampler = SubsetRandomSampler(val_indices)\n",
        "    val_loader = DataLoader(dataset, batch_size=batch_size, sampler=val_sampler)\n",
        "\n",
        "    return train_loader, val_loader"
      ],
      "execution_count": 6,
      "outputs": []
    },
    {
      "cell_type": "code",
      "metadata": {
        "id": "I_YuWdHc99TW"
      },
      "source": [
        "train, val, test = fetch_data(train_path, val_path, test_path)"
      ],
      "execution_count": 7,
      "outputs": []
    },
    {
      "cell_type": "code",
      "metadata": {
        "id": "9uS_DWhQ9CTG"
      },
      "source": [
        "vocab = make_vocab(train)\n",
        "vocab, word2index, index2word = make_indices(vocab)\n",
        "train_vectorized = convert_to_vector_representation(train, word2index)\n",
        "val_vectorized = convert_to_vector_representation(val, word2index)\n",
        "test_vectorized = convert_to_vector_representation(test, word2index, True)"
      ],
      "execution_count": 8,
      "outputs": []
    },
    {
      "cell_type": "code",
      "metadata": {
        "id": "yG7pKH07ClOv"
      },
      "source": [
        "train_loader, val_loader = get_data_loaders(train_vectorized, val_vectorized, batch_size=1)"
      ],
      "execution_count": 9,
      "outputs": []
    },
    {
      "cell_type": "code",
      "metadata": {
        "id": "c7GPWuoQVzgT"
      },
      "source": [
        "# Note: Colab has 12 hour limits on GPUs, also potential inactivity may kill the notebook. Save often!"
      ],
      "execution_count": null,
      "outputs": []
    },
    {
      "cell_type": "markdown",
      "metadata": {
        "id": "dSKmtKpXbk8_"
      },
      "source": [
        "## 1.1 FFNN Implementation"
      ]
    },
    {
      "cell_type": "markdown",
      "metadata": {
        "id": "Zqv3EwKyaGaN"
      },
      "source": [
        "### 1.1 Task\n",
        "Assume that an onmiscient oracle has told you there are **4 fundamental errors** in the **FFNN** implementation. They may be anywhere in this section unless otherwise indicated. Your objective is to _find_ and _fix_ each of these errors and to include in the report a description of the original error along with the fix. To help your efforts, the oracle has provided you with additional information about the properties of the errors as follows:\n",
        "\n",
        "* _Correctness_ \\\n",
        "Each error causes the code to be strictly incorrect. There is absolutely no ambiguity that the errant code (or missing code) is incorrect. This means errors are not due to the code being inefficient (in run-time or in memory).\n",
        "\n",
        "* _Localized_ \\\n",
        "Each error can be judged to be erroneous by strictly looking at the code (along with your knowledge of machine learning as taught through this course). The errors therefore are not due to the model being uncompetitive in terms of performance with state-of-the-art performance for this task nor are they due to the amount of data being insufficient for this task in general.\n",
        "\n",
        "* _General_ \\\n",
        "Each error is general in nature. They will not be triggered by the model receiving a pathological input, i.e. they will not be something that is triggered specifically when NLP is referenced with negative sentiment.\n",
        "\n",
        "* _Fundamental_ \\\n",
        "Each error is a fundamental failure in terms of doing what is intended. This means that errors do not hinge on nuanced understanding of specific PyTorch functionality. This also means they will not exploit properties of the dataset in\n",
        "a subtle way that could only be realized by someone who has comprehensively studied the data.\n",
        "\n",
        "The bottom line: the errors should be fairly obvious. The oracle further reminds you that performance/accuracy of the (resulting) model should not be how you ensure you have debugged successfully. For example, if you correct some, but not all, of the errors, the remaining errors may mask the impact of your fixes. Further, performance is not guaranteed to improve by fixing any particular error. Consider the case where the training set is also employed as the test set; performance will be very high but there is something very wrong. And fixing the problem will reduce performance.\n",
        "In fixing each error, the oracle provides some further insight about the fixes:\n",
        "\n",
        "* _Minimal_ \\\n",
        "A reasonable fix for each error can be achieved in < 5 lines of code being changes. We do not require you to make fixes of 4 of fewer lines, but it should be a cause for concern if your fixes are far more elaborate\n",
        "\n",
        "* _Ill-posed_ \\\n",
        "While the errors are unambiguous, the method for fixing them is under-specified: You are free to implement any reasonable fix and all such fixes will equally recieve full credit."
      ]
    },
    {
      "cell_type": "code",
      "metadata": {
        "id": "fHbr7ltPADIu"
      },
      "source": [
        "# Lambda to switch to GPU if available\n",
        "get_device = lambda : \"cuda:0\" if torch.cuda.is_available() else \"cpu\""
      ],
      "execution_count": 10,
      "outputs": []
    },
    {
      "cell_type": "code",
      "metadata": {
        "id": "EsNf3SOHcbCa"
      },
      "source": [
        "unk = '<UNK>'\n",
        "\n",
        "# Consult the PyTorch documentation for information on the functions used below:\n",
        "# https://pytorch.org/docs/stable/torch.html\n",
        "\n",
        "class FFNN(nn.Module):\n",
        "\tdef __init__(self, input_dim, h, output_dim):\n",
        "\t\tsuper(FFNN, self).__init__()\n",
        "\t\tself.h = h\n",
        "\t\tself.W1 = nn.Linear(input_dim, h)\n",
        "\t\tself.activation = nn.ReLU() # The rectified linear unit; one valid choice of activation function\n",
        "\t\tself.W2 = nn.Linear(h, output_dim) # error #2, timestamp 25:47 torch tutorial vid maybe?\n",
        "    # The below two lines are not a source for an error\n",
        "\t\tself.softmax = nn.LogSoftmax(dim=1) # The softmax function that converts vectors into probability distributions; computes log probabilities for computational benefits\n",
        "\t\tself.loss = nn.NLLLoss() # The cross-entropy/negative log likelihood loss taught in class\n",
        "\n",
        "\tdef compute_Loss(self, predicted_vector, gold_label):\n",
        "\t\treturn self.loss(predicted_vector, gold_label)\n",
        "\n",
        "\tdef forward(self, input_vector):\n",
        "\t\t# The z_i are just there to record intermediary computations for your clarity\n",
        "\t\tz1 = self.W1(input_vector)\n",
        "\t\t# 27:10 z1 = self.activation(z1) maybe? error 3\n",
        "\t\tz1 = self.activation(z1)\n",
        "\t\tz2 = self.W2(z1)\n",
        "\t\tpredicted_vector = self.softmax(z2)\n",
        "\t\treturn predicted_vector\n",
        "\t\n",
        "\tdef load_model(self, save_path):\n",
        "\t\tself.load_state_dict(torch.load(save_path))\n",
        "\t\n",
        "\tdef save_model(self, save_path):\n",
        "\t\ttorch.save(self.state_dict(), save_path)\n",
        "\n",
        "\n",
        "def train_epoch(model, train_loader, optimizer):\n",
        "\tmodel.train()\n",
        "\ttotal = 0\n",
        "\tloss = 0\n",
        "\tcorrect = 0\n",
        "\tfor (input_batch, expected_out) in tqdm(train_loader, leave=False, desc=\"Training Batches\"):\n",
        "\t\toutput = model(input_batch.to(get_device()))\n",
        "\t\t# print(output)\n",
        "\t\ttotal += output.size()[0]\n",
        "\t\t_, predicted = torch.max(output, 1)\n",
        "\t\tcorrect += (expected_out == predicted.to(\"cpu\")).cpu().numpy().sum()\n",
        "\t\tloss = model.compute_Loss(output, expected_out.to(get_device()))\n",
        "\t\t#46:16 possible 4th error: didn't zero_grad optimizer\n",
        "\t\toptimizer.zero_grad()\n",
        "\t\tloss.backward()\n",
        "\t\toptimizer.step()\n",
        "\t# Print accuracy\n",
        "\tacc = correct / total\n",
        "\tprint(\"training accuracy:\", acc)\n",
        "\tloss = loss.tolist()\n",
        "\tprint(\"training loss:\", loss)\n",
        "\treturn acc, loss\n",
        "\n",
        "\n",
        "def evaluation(model, val_loader, optimizer):\n",
        "\tmodel.eval()\n",
        "\tloss = 0\n",
        "\tcorrect = 0\n",
        "\ttotal = 0\n",
        "\tfor (input_batch, expected_out) in tqdm(val_loader, leave=False, desc=\"Validation Batches\"):\n",
        "\t\toutput = model(input_batch.to(get_device()))\n",
        "\t\ttotal += output.size()[0]\n",
        "\t\t_, predicted = torch.max(output, 1)\n",
        "\t\tcorrect += (expected_out.to(\"cpu\") == predicted.to(\"cpu\")).cpu().numpy().sum()\n",
        "\t\tloss += model.compute_Loss(output, expected_out.to(get_device()))\n",
        "\tloss /= len(val_loader)\n",
        "\t# Print validation metrics\n",
        "\tacc = correct / total\n",
        "\tprint(\"evaluation acc\", correct / total)\n",
        "\tloss = loss.tolist()\n",
        "\tprint(\"evaluation loss\", loss)\n",
        "\treturn acc, loss\n",
        "\n",
        "def train_and_evaluate(number_of_epochs, model, train_loader, val_loader):\n",
        "\tprint(model.parameters())\n",
        "\t# optimizer = optim.SGD(model.parameters(), lr=0.001, momentum=0.9)\n",
        "\toptimizer = optim.Adam(model.parameters(), lr=0.0003)\n",
        "\ttrainacc = []\n",
        "\ttrainloss = []\n",
        "\tevalacc = []\n",
        "\tevalloss = []\n",
        "\tfor epoch in trange(number_of_epochs, desc=\"Epochs\"):\n",
        "\t\tt = time.time()\n",
        "\t\tacc, loss = train_epoch(model, train_loader, optimizer) #error 1\n",
        "\t\ttrainacc.append(acc)\n",
        "\t\ttrainloss.append(loss)\n",
        "\t\tacc, loss = evaluation(model, val_loader, optimizer)\n",
        "\t\tevalacc.append(acc)\n",
        "\t\tevalloss.append(loss)\n",
        "\t\tprint(\"this epoch took\", str(time.time() - t), \"seconds\")\n",
        "\treturn trainacc, trainloss, evalacc, evalloss"
      ],
      "execution_count": 11,
      "outputs": []
    },
    {
      "cell_type": "code",
      "metadata": {
        "id": "qFrrcE3CVxzX"
      },
      "source": [
        "h = 512\n",
        "model = FFNN(len(vocab), h, len(emotion_to_idx)).to(get_device())\n",
        "trainacc, trainloss, evalacc, evalloss = train_and_evaluate(2, model, train_loader, val_loader)\n",
        "print(trainacc, trainloss, evalacc, evalloss)\n",
        "model.save_model(\"ffnn_fixed.pth\") # Save our model!"
      ],
      "execution_count": null,
      "outputs": []
    },
    {
      "cell_type": "code",
      "metadata": {
        "id": "sZqpEPzW_lXX"
      },
      "source": [
        "# Example of how to load\n",
        "h=512\n",
        "loaded_model = FFNN(len(vocab), h, len(emotion_to_idx))\n",
        "loaded_model.load_model(\"ffnn_fixed.pth\")"
      ],
      "execution_count": null,
      "outputs": []
    },
    {
      "cell_type": "markdown",
      "metadata": {
        "id": "XxW8Xgq6YbPE"
      },
      "source": [
        "## 1.2 Part 1 Report\n",
        "Please include a description of the error, a description of your fix, and a python comment indicating the fix for each of the 4 errors.\n",
        "\n",
        "### Error 1:\n",
        "```\n",
        "def train_and_evaluate(number_of_epochs, model, train_loader, val_loader):\n",
        "\toptimizer = optim.SGD(model.parameters(), lr=0.001, momentum=0.9)\n",
        "\tfor epoch in trange(number_of_epochs, desc=\"Epochs\"):\n",
        "\t\ttrain_epoch(model, val_loader, optimizer)\n",
        "\t\tevaluation(model, val_loader, optimizer)\n",
        "\treturn\n",
        "```\n",
        "This section of code was initially incorrect because of its use of val_loader in the train_epoch function. It should use train_loader instead and look like the following:\n",
        "```\n",
        "def train_and_evaluate(number_of_epochs, model, train_loader, val_loader):\n",
        "\toptimizer = optim.SGD(model.parameters(), lr=0.001, momentum=0.9)\n",
        "\tfor epoch in trange(number_of_epochs, desc=\"Epochs\"):\n",
        "\t\ttrain_epoch(model, train_loader, optimizer)\n",
        "\t\tevaluation(model, val_loader, optimizer)\n",
        "\treturn\n",
        "```\n",
        "\n",
        "### Error 2:\n",
        "```\n",
        "def __init__(self, input_dim, h, output_dim):\n",
        "\tsuper(FFNN, self).__init__()\n",
        "\tself.h = h\n",
        "\tself.W1 = nn.Linear(input_dim, h)\n",
        "\tself.activation = nn.ReLU()choice of activation function\n",
        "\tself.W2 = nn.Linear(h, h)\n",
        "\tself.softmax = nn.LogSoftmax(dim=1) \n",
        "\tself.loss = nn.NLLLoss()\n",
        "```\n",
        "This section of code was initially incorrect because W2 is initialized with incorrect dimensions. We fixed it by initializing it with the correct dimensions, h x output_dim:\n",
        "```\n",
        "def __init__(self, input_dim, h, output_dim):\n",
        "\tsuper(FFNN, self).__init__()\n",
        "\tself.h = h\n",
        "\tself.W1 = nn.Linear(input_dim, h)\n",
        "\tself.activation = nn.ReLU()\n",
        "\tself.W2 = nn.Linear(h, output_dim) # error #2\n",
        "\tself.softmax = nn.LogSoftmax(dim=1)\n",
        "\tself.loss = nn.NLLLoss()\n",
        "```\n",
        "\n",
        "### Error 3:\n",
        "```\n",
        "\tdef forward(self, input_vector):\n",
        "\t\tz1 = self.W1(input_vector)\n",
        "\t\tz2 = self.W2(z1)\n",
        "\t\tpredicted_vector = self.softmax(z2)\n",
        "\t\treturn predicted_vector\n",
        "```\n",
        "This section of code was initially incorrect because z1 is not put through the activation function. We fixed it by applying the activation function to z1:\n",
        "```\n",
        "\tdef forward(self, input_vector):\n",
        "\t\tz1 = self.W1(input_vector)\n",
        "\t\tz1 = self.activation(z1)\n",
        "\t\tz2 = self.W2(z1)\n",
        "\t\tpredicted_vector = self.softmax(z2)\n",
        "\t\treturn predicted_vector\n",
        "```\n",
        "\n",
        "\n",
        "### Error 4:\n",
        "```\n",
        "def train_epoch(model, train_loader, optimizer):\n",
        "\tmodel.train()\n",
        "\ttotal = 0\n",
        "\tloss = 0\n",
        "\tcorrect = 0\n",
        "\tfor (input_batch, expected_out) in tqdm(train_loader, leave=False, desc=\"Training Batches\"):\n",
        "\t\toutput = model(input_batch.to(get_device()))\n",
        "\t\ttotal += output.size()[0]\n",
        "\t\t_, predicted = torch.max(output, 1)\n",
        "\t\tcorrect += (expected_out == predicted.to(\"cpu\")).cpu().numpy().sum()\n",
        "\t\tloss = model.compute_Loss(output, expected_out.to(get_device()))\n",
        "\t\tloss.backward()\n",
        "\t\toptimizer.step()\n",
        "\treturn\n",
        "```\n",
        "This section of code was initially incorrect because we forget to initialize the optimize gradient to zeros. We fixed it by using the torch function zero_grad() to do so:\n",
        "```\n",
        "def train_epoch(model, train_loader, optimizer):\n",
        "\tmodel.train()\n",
        "\ttotal = 0\n",
        "\tloss = 0\n",
        "\tcorrect = 0\n",
        "\tfor (input_batch, expected_out) in tqdm(train_loader, leave=False, desc=\"Training Batches\"):\n",
        "\t\toutput = model(input_batch.to(get_device()))\n",
        "\t\ttotal += output.size()[0]\n",
        "\t\t_, predicted = torch.max(output, 1)\n",
        "\t\tcorrect += (expected_out == predicted.to(\"cpu\")).cpu().numpy().sum()\n",
        "\t\tloss = model.compute_Loss(output, expected_out.to(get_device()))\n",
        "\t\toptimizer.zero_grad()\n",
        "\t\tloss.backward()\n",
        "\t\toptimizer.step()\n",
        "\tprint(\"training accuracy:\", loss)\n",
        "\treturn\n",
        "```"
      ]
    },
    {
      "cell_type": "markdown",
      "metadata": {
        "id": "9D2uTXRmbn5Q"
      },
      "source": [
        "# Part 2: Recurrent Neural Network\n",
        "Recurrent neural networks have been the workhorse of NLP for a number of years. A fundamental reason for this success is they can inherently deal with _variable_ length sequences. This is axiomatically important for natural language; words are formed from a variable number of characters, sentences from a variable number of words, paragraphs from a variable number of sentences, and so forth. This differs from a field like Computer Vision where images are (generally) of a fixed size.\n",
        "<br></br>\n",
        "This is also very different scenario than that of the classifiers we have studied (e.g.Naive Bayes, Perceptron Learning, Feedforward Neural Networks), which take in a\n",
        "fixed-length vector.\n",
        "<br></br>\n",
        "To clarify this, we can think of the _types_ of the mathematical functions described by a FFNN and an RNN. What is pivotal in what follows is that k need not be constant\n",
        "across examples.\n",
        "\n",
        "$\\textbf{FFNN.}$ \\\n",
        "$Input: \\vec{x} \\in \\mathcal{R}^d$ \\\n",
        "$Model\\text{ }Output: \\vec{z} \\in \\mathcal{R}^{\\mid \\mathcal{Y}\\mid}$\n",
        "$Final\\text{ }Output: \\vec{y} \\in \\mathcal{R}^{\\mid \\mathcal{Y}\\mid}$ \\\n",
        "$\\vec{y}$ satisfies the contraint of being a probability distribution, ie $\\underset{i \\in \\mid \\mathcal{Y} \\mid}{\\sum} \\vec{y}[i] = 1$ and $\\underset{i \\in \\mid \\mathcal{y} \\mid}{min} \\text{ }\\vec{y}[i] \\leq 1$, which is achieved via _Softmax_ applied to $\\vec{z}$.\n",
        "<br></br>\n",
        "$\\textbf{RNN.}$ \\\n",
        "$Input: \\vec{x}_1,\\vec{x}_2, \\dots, \\vec{x}_k; \\vec{x}_i \\in \\mathcal{R}^d$ \\\n",
        "$Model\\text{ }Output: \\vec{z}_1,\\vec{z}_2, \\dots, \\vec{z}_k; \\vec{z}_i \\in \\mathcal{R}^{h}$\n",
        "$Final\\text{ }Output: \\vec{y} \\in \\mathcal{R}^{\\mid \\mathcal{Y}\\mid}$ \\\n",
        "$\\vec{y}$ satisfies the contraint of being a probability distribution, ie $\\underset{i \\in \\mid \\mathcal{Y} \\mid}{\\sum} \\vec{y}[i] = 1$ and $\\underset{i \\in \\mid \\mathcal{y} \\mid}{min} \\text{ }\\vec{y}[i] \\geq 0$, which is achieved by the process described later in this report and as you have seen in class"
      ]
    },
    {
      "cell_type": "markdown",
      "metadata": {
        "id": "A4n8IVFtflPQ"
      },
      "source": [
        "Intuitively, an RNN takes in a sequence of vectors and computes a new vector corresponding to each vector in the original sequence. It achieves this by processing the input sequence one vector at a time to (a) compute an updated representation of the entire sequence (which is then re-used when processing the next vector in the input sequence), and (b) produce an output for the current position. The vector computed in (a) therefore not only contains information about the current input vector but also about the previous input vectors. Hence, $\\vec{z}_j$ is computed after having observed $\\vec{x}_1, \\dots, \\vec{x}_j$. As such, a simple observation is we can treat the last vector computed by the RNN, ie $\\vec{z}_k$ as a representation of the entire sequence. Accordingly, we can use this as the input to a single-layer linear classifier to compute a yector $\\vec{y}$ as we will need for classification.\n",
        "\n",
        "$$\\vec{y} = Softmax(W\\vec{z}_k); W\\in \\mathcal{R}^{\\mid \\mathcal{Y}\\mid \\times h}$$"
      ]
    },
    {
      "cell_type": "markdown",
      "metadata": {
        "id": "oFYJdd9kYhXq"
      },
      "source": [
        "## Part 2: Rules\n",
        "**Part 2** requires implementing a rudimentary RNN in PyTorch for text classification. Countless blog posts, internet tutorials and other implementations available publicly (and privately) do precisely this. In fact, almost every student in [Cornell NLP](https://nlp.cornell.edu/people/) likely has some code for doing this on their Github. You **cannot** use any such code (though you may use anything you find in course notes or course texts) irrespective of whether you cite it or do not.\n",
        "\n",
        "Submissions will be passed through the MOSS system, which is a sophisticated system for detecting plagiarism in code and is robust in the sense that it tries to find alignments in the underlying semantics of the code and not just the surface level syntax. Similarly, the course staff are also quite astute with respect to programming neural models for NLP and we will strenuously look at your code. We flagged multiple groups for this last year, so we strongly suggest you resist any such temptation (if the Academic Integrity policy alone is insufficient at dissuading you)."
      ]
    },
    {
      "cell_type": "markdown",
      "metadata": {
        "id": "oS1lQBsWWNLc"
      },
      "source": [
        "## 2.1 RNN Implementation\n",
        "\n",
        "Similar to **Part 1**, we have the previous `Data loader` section and the new `RNN` component. We don't envision that it will be useful to modify the `Data loader`. We have included some stubs to help give you a place to start for the RNN.\n",
        "\n",
        "Additionally, we remind you that Part 1 furnishes a near-functional implementation of a similar neural model for the same task. If you successfully do Part 1 correctly, it will be wholely functional. Using it as a template for Part 2 is both prudent and suggested."
      ]
    },
    {
      "cell_type": "code",
      "metadata": {
        "id": "E9r2uCIKrvoP"
      },
      "source": [
        "# Lambda to switch to GPU if available\n",
        "get_device = lambda : \"cuda:0\" if torch.cuda.is_available() else \"cpu\""
      ],
      "execution_count": 12,
      "outputs": []
    },
    {
      "cell_type": "code",
      "metadata": {
        "id": "cf00bcePRLEs"
      },
      "source": [
        "glove_path = os.path.join(os.getcwd(), \"drive\", \"My Drive\", \"CS 4740\", \"Project 3\", \"glove.6B.300d.txt\") # replace based on your Google drive organization\n"
      ],
      "execution_count": 13,
      "outputs": []
    },
    {
      "cell_type": "code",
      "metadata": {
        "id": "ykZQDi7Vd3zq"
      },
      "source": [
        "glove = pd.read_csv(glove_path, sep=\" \", quoting=3, header=None, index_col=0)\n",
        "# glove = pd.read_csv(\"glove.6B.50d.txt\", sep=\" \", quoting=3, header=None, index_col=0)\n",
        "\n",
        "glove_embedding = {key: val.values for key, val in glove.T.items()}"
      ],
      "execution_count": 14,
      "outputs": []
    },
    {
      "cell_type": "code",
      "metadata": {
        "id": "dAT-AydaeELG"
      },
      "source": [
        "def create_embedding_matrix(word_index,embedding_dict,dimension):\n",
        "  embedding_matrix=np.zeros((len(word_index)+1,dimension))\n",
        "\n",
        "  for word,index in word_index.items():\n",
        "    if word in embedding_dict:\n",
        "      embedding_matrix[index]=embedding_dict[word]\n",
        "  return embedding_matrix"
      ],
      "execution_count": 15,
      "outputs": []
    },
    {
      "cell_type": "code",
      "metadata": {
        "id": "HcRfQjKee1If"
      },
      "source": [
        "embMatrix = create_embedding_matrix(word2index, glove_embedding, 300)"
      ],
      "execution_count": 16,
      "outputs": []
    },
    {
      "cell_type": "code",
      "metadata": {
        "id": "LahG3KfpfwOV"
      },
      "source": [
        "emb_vocab_size = embMatrix.shape[0]\n",
        "emb_vector_size = embMatrix.shape[1]\n",
        "embedding = nn.Embedding(emb_vocab_size, emb_vector_size)"
      ],
      "execution_count": 17,
      "outputs": []
    },
    {
      "cell_type": "code",
      "metadata": {
        "id": "x9VtbFTrgLjS"
      },
      "source": [
        "embedding.weight=nn.Parameter(torch.tensor(embMatrix,dtype=torch.float32))\n"
      ],
      "execution_count": 18,
      "outputs": []
    },
    {
      "cell_type": "code",
      "metadata": {
        "id": "69LxTPLWEPEG"
      },
      "source": [
        "def rnn_preprocessing(data, embedding, word2index, test=False, embeddim=50):\n",
        "    \"\"\"rnn_preprocessing\n",
        "\n",
        "    :param data:\n",
        "    :type data:\n",
        "    :param test:\n",
        "    :type test:\n",
        "    \"\"\"\n",
        "    # Do some preprocessing similar to convert_to_vector_representation\n",
        "    # For the RNN, remember that instead of a single vector per training\n",
        "    # example, you will have a sequence of vectors where each vector\n",
        "    # represents some information about a specific token.\n",
        "    vocabsize = len(word2index)\n",
        "    # embeddim = 50\n",
        "    maxtweetlength = 140 # the max number of words in a tweet is 140\n",
        "    if test:\n",
        "      vectorized_data = []\n",
        "      for document in data:\n",
        "        idxs = []\n",
        "        for word in document:\n",
        "          idxs.append(word2index.get(word, word2index[UNK]))\n",
        "        idxs = torch.tensor(idxs, dtype=torch.long)\n",
        "        ems2 = embedding(idxs)\n",
        "        tensd = maxtweetlength - ems2.size()[0]\n",
        "        tens0 = torch.zeros(tensd, embeddim)\n",
        "        ems = torch.cat((ems2, tens0), 0)\n",
        "        vectorized_data.append(ems)\n",
        "      # for tensi in range(len(vectorized_data)):\n",
        "      #   # tens = (torch.zeros(maxtweetlength) +  tens[0], tens[1])\n",
        "      #   tens = vectorized_data[tensi]\n",
        "      #   tensd = maxtweetlength - tens.size()[0]\n",
        "      #   tens0 = torch.zeros(tensd, 50)\n",
        "      #   vectorized_data[tensi] = torch.cat((tens, tens0),0)\n",
        "    else:\n",
        "      vectorized_data = []\n",
        "      for document, label in data:\n",
        "        idxs = []\n",
        "        for word in document:\n",
        "          idxs.append(word2index.get(word, word2index[UNK]))\n",
        "        idxs = torch.tensor(idxs, dtype=torch.long)\n",
        "        ems2 = embedding(idxs)\n",
        "        tensd = maxtweetlength - ems2.size()[0]\n",
        "        tens0 = torch.zeros(tensd, embeddim)\n",
        "        ems = torch.cat((ems2, tens0), 0)\n",
        "        vectorized_data.append((ems, label))\n",
        "      # for tensi in range(len(vectorized_data)):\n",
        "      #   # tens = (torch.zeros(maxtweetlength) +  tens[0], tens[1])\n",
        "      #   tens = vectorized_data[tensi]\n",
        "      #   tensd = maxtweetlength - tens[0].size()[0]\n",
        "      #   tens0 = torch.zeros(tensd, 50)\n",
        "      #   vectorized_data[tensi] = (torch.cat((tens[0], tens0),0), tens[1])\n",
        "    return vectorized_data"
      ],
      "execution_count": 19,
      "outputs": []
    },
    {
      "cell_type": "markdown",
      "metadata": {
        "id": "IcFdTJQY9Zbd"
      },
      "source": [
        "### RNN class"
      ]
    },
    {
      "cell_type": "code",
      "metadata": {
        "id": "MvJ_T8W3c3O4"
      },
      "source": [
        "class RNN(nn.Module):\n",
        "\tdef __init__(self, input_dim, h, output_dim, embeddim=50): # Add relevant parameters\n",
        "\t\tsuper(RNN, self).__init__()#input_dim, h)\n",
        "\t\t# Fill in relevant parameters\n",
        "\t\tself.h = h\n",
        "\t\tself.output_dim=output_dim\n",
        "\t\tself.W3 = nn.Linear(h, output_dim) # V\n",
        "\t\tself.W3.to(get_device())\n",
        "\t\tself.rnn = nn.RNN(embeddim, h, num_layers=3, nonlinearity='relu')\n",
        "\t\t# Ensure parameters are initialized to small values, see PyTorch documentation for guidance\n",
        "\t\tself.softmax = nn.LogSoftmax(dim=1)\n",
        "\t\tself.loss = nn.NLLLoss()\n",
        "\t\tself.embeddim = embeddim\n",
        "\n",
        "\tdef compute_Loss(self, predicted_vector, gold_label):    \n",
        "\t\treturn self.loss(predicted_vector, gold_label)\t\n",
        "\n",
        "\tdef forward(self, inputs):\n",
        "\t\t# print('inputszie19', inputs.size())\n",
        "\t\t# begin code\n",
        "\t\t# print(\"start fwd\")\n",
        "\t\tbs = inputs.size()[0]\n",
        "\t\tlast = [-1]*bs\n",
        "\t\tfor batch in range(bs):\n",
        "\t\t\tb = 1\n",
        "\t\t\tfor tweet in range(inputs.size()[1]):\n",
        "\t\t\t\tcurrtweet = inputs[batch][tweet]\n",
        "\t\t\t\t# if tweet < 5:\n",
        "\t\t\t\t\t# print(currtweet)\n",
        "\t\t\t\tif torch.abs(currtweet).sum() <= 0.1 and b == 1:\n",
        "\t\t\t\t\tlast[batch] = tweet\n",
        "\t\t\t\t\tb = 0\n",
        "\t\t\t\tif b == 0:\n",
        "\t\t\t\t\tbreak\n",
        "\t\toutputs, h_n = self.rnn(inputs)\n",
        "\t\t#only pass in the final layer\n",
        "\t\th2 = self.W3(outputs[-1:])\n",
        "\t\tpredicted_vector = self.softmax(h2) # remember to include the predicted \n",
        "\t\t# print(predicted_vector.size())\n",
        "\t\t# print('predictedvecl41', predicted_vector)\n",
        "\t\tpv = torch.zeros(bs,5).to(get_device())\n",
        "\t\ti = 0\n",
        "\t\tfor batch in predicted_vector:\n",
        "\t\t\tconcatted = torch.unsqueeze(batch[last[i-1]],0)\n",
        "\t\t\t# print('concatted', concatted, 'pv', pv)\n",
        "\t\t\tpv[i] = concatted\n",
        "\t\t\ti +=1\n",
        "\t\t# print(\"pvl47\", pv)\n",
        "\t\t# print(\"pv\", type(pv), pv.size(), pv)\n",
        "\t\t# unnormalized scores which should be normalized into a (log) probability distribution\n",
        "\t\t# end code\n",
        "\t\treturn pv\n",
        "\n",
        "\tdef load_model(self, save_path):\n",
        "\t\tself.load_state_dict(torch.load(save_path))\n",
        "\t\n",
        "\tdef save_model(self, save_path):\n",
        "\t\ttorch.save(self.state_dict(), save_path)"
      ],
      "execution_count": 126,
      "outputs": []
    },
    {
      "cell_type": "markdown",
      "metadata": {
        "id": "B1hFdjBO9lDj"
      },
      "source": [
        "### other rnn stuff"
      ]
    },
    {
      "cell_type": "code",
      "metadata": {
        "id": "PN8T0mdv9ugC"
      },
      "source": [
        "class RNN(nn.RNN):\n",
        "\tdef __init__(self, input_dim, h, output_dim, embeddim=50): # Add relevant parameters\n",
        "\t\tsuper(RNN, self).__init__(input_dim, h)\n",
        "\t\t# Fill in relevant parameters\n",
        "\t\tself.h = h\n",
        "\t\tself.output_dim=output_dim\n",
        "\t\tself.W3 = nn.Linear(h, output_dim) # V\n",
        "\t\tself.rnn = nn.RNN(embeddim, h, num_layers=3, nonlinearity='relu')\n",
        "\t\t# Ensure parameters are initialized to small values, see PyTorch documentation for guidance\n",
        "\t\tself.softmax = nn.LogSoftmax(dim=1)\n",
        "\t\tself.loss = nn.NLLLoss()\n",
        "\t\tself.embeddim = embeddim\n",
        "\n",
        "\tdef compute_Loss(self, predicted_vector, gold_label):    \n",
        "\t\treturn self.loss(predicted_vector, gold_label)\t\n",
        "\n",
        "\tdef forward(self, inputs):\n",
        "\t\t# print('inputszie19', inputs.size())\n",
        "\t\t# begin code\n",
        "\t\t# print(\"start fwd\")\n",
        "\t\tbs = inputs.size()[0]\n",
        "\t\tlast = [-1]*bs\n",
        "\t\tfor batch in range(bs):\n",
        "\t\t\tb = 1\n",
        "\t\t\tfor tweet in range(inputs.size()[1]):\n",
        "\t\t\t\tcurrtweet = inputs[batch][tweet]\n",
        "\t\t\t\t# if tweet < 5:\n",
        "\t\t\t\t\t# print(currtweet)\n",
        "\t\t\t\tif torch.abs(currtweet).sum() <= 0.1 and b == 1:\n",
        "\t\t\t\t\tlast[batch] = tweet\n",
        "\t\t\t\t\tb = 0\n",
        "\t\t\t\tif b == 0:\n",
        "\t\t\t\t\tbreak\n",
        "\t\tinputs = inputs.to(get_device())\n",
        "\t\toutputs, h_n = self.rnn(inputs) #outputs is size [batchsize, inputlength, h(numfeatures)]\n",
        "\t\ti = 0; pv = torch.zeros(bs, self.h).to(get_device())\n",
        "    #pv = torch.zeros(bs,512).to(get_device())\n",
        "\t\tfor batch in outputs:\n",
        "\t\t\tconcatted = torch.unsqueeze(batch[last[i-1]],0)\n",
        "\t\t\t# print('concatted', concatted, 'pv', pv)\n",
        "\t\t\tpv[i] = concatted\n",
        "\t\t\ti +=1\n",
        "\t\t#only pass in the final layer\n",
        "\t\th2 = self.W3(pv)\n",
        "\t\tpredicted_vector = self.softmax(h2) # remember to include the predicted \n",
        "\t\t# print(predicted_vector.size())\n",
        "\t\t# print('predictedvecl41', predicted_vector)\n",
        "\t\t\n",
        "\t\t# print(\"pvl47\", pv)\n",
        "\t\t# print(\"pv\", type(pv), pv.size(), pv)\n",
        "\t\t# unnormalized scores which should be normalized into a (log) probability distribution\n",
        "\t\t# end code\n",
        "\t\treturn predicted_vector\n",
        "\n",
        "\tdef load_model(self, save_path):\n",
        "\t\tself.load_state_dict(torch.load(save_path))\n",
        "\t\n",
        "\tdef save_model(self, save_path):\n",
        "\t\ttorch.save(self.state_dict(), save_path)"
      ],
      "execution_count": 49,
      "outputs": []
    },
    {
      "cell_type": "code",
      "metadata": {
        "id": "9RERyhMZfmX3"
      },
      "source": [
        "train, val, test = fetch_data(train_path, val_path, test_path)"
      ],
      "execution_count": 21,
      "outputs": []
    },
    {
      "cell_type": "code",
      "metadata": {
        "id": "dH3y3-N6fV9S"
      },
      "source": [
        "vocab = make_vocab(train)\n",
        "vocab, word2index, index2word = make_indices(vocab)\n",
        "train_vectorized = rnn_preprocessing(train, embedding, word2index, embeddim=300)\n",
        "val_vectorized = rnn_preprocessing(val, embedding, word2index, embeddim=300)\n",
        "test_vectorized = rnn_preprocessing(test, embedding, word2index, True, embeddim=300)"
      ],
      "execution_count": 22,
      "outputs": []
    },
    {
      "cell_type": "code",
      "metadata": {
        "id": "GqhF1w3-Hj7h"
      },
      "source": [
        "# print(len(train_vectorized))\n",
        "# print(len(val_vectorized))\n",
        "# print(len(test_vectorized[0]))\n",
        "# print(test_vectorized[0])"
      ],
      "execution_count": 23,
      "outputs": []
    },
    {
      "cell_type": "code",
      "metadata": {
        "id": "BWGnT__qjnII"
      },
      "source": [
        "def train_rnn_epoch(model, train_loader, optimizer):\n",
        "  model.train()\n",
        "  total = 0\n",
        "  loss = 0\n",
        "  correct = 0\n",
        "  cbatch = 0\n",
        "  ctest = 0\n",
        "  pred_list = torch.tensor([]).to(get_device())\n",
        "  exp_list = torch.tensor([])\n",
        "  for (input_batch, expected_out) in tqdm(train_loader, leave=False, desc=\"Training Batches\"):\n",
        "    # print('ib', input_batch.size(), input_batch)\n",
        "    optimizer.zero_grad()\n",
        "    cbatch += 1\n",
        "    output = model(torch.autograd.Variable(input_batch).to(get_device()))\n",
        "    total += output.size()[0]\n",
        "    p1, predicted = torch.max(output, 1)\n",
        "    pred_list = torch.cat((pred_list,predicted),0)\n",
        "    exp_list = torch.cat((exp_list,expected_out),0)\n",
        "    ctest += predicted.to(\"cpu\").sum()\n",
        "    correct += (expected_out == predicted.to(\"cpu\")).cpu().numpy().sum()\n",
        "    loss = model.compute_Loss(output, expected_out.to(get_device()))\n",
        "    # optimizer.zero_grad()\n",
        "    loss.backward()\n",
        "    # print('ih',torch.norm(model.rnn.weight_ih_l0.grad))\n",
        "    # print('hh',torch.norm(model.rnn.weight_hh_l0.grad))\n",
        "    # print('W3',torch.norm(model.W3.weight.grad))\n",
        "    optimizer.step()\n",
        "    # print('loss', loss)\n",
        "    # print(\"acc\", str((expected_out == predicted.to(\"cpu\")).cpu().numpy().sum()/expected_out.size()[0]))\n",
        "  # print(\"cbatch\", cbatch)\n",
        "  # print(\"ctest\", ctest)\n",
        "  cacc = correct/total\n",
        "  print(\"\\ntraining accuracy:{:.2%}\".format(cacc))\n",
        "  # print(\"correct\", correct, \"total\", total)\n",
        "  loss = loss.tolist()\n",
        "  print(\"training loss:\", loss)\n",
        "  # print('pred list',pred_list)\n",
        "  # pplst = pred_list.type(torch.int)\n",
        "  # binc = torch.bincount(pplst)\n",
        "  # print('predlist bincount', binc)\n",
        "  # print('exp list',exp_list)\n",
        "  # explst = exp_list.type(torch.int)\n",
        "  # binc2 = torch.bincount(explst)\n",
        "  # print('explist bincount', binc2)\n",
        "  return cacc, loss\n",
        "\n",
        "def rnn_evaluation(model, val_loader, optimizer):\n",
        "  model.eval()\n",
        "  loss = 0\n",
        "  correct = 0\n",
        "  total = 0\n",
        "  for (input_batch, expected_out) in tqdm(val_loader, leave=False, desc=\"Validation Batches\"):\n",
        "    output = model(input_batch.to(get_device()))\n",
        "    total += output.size()[0]\n",
        "    _, predicted = torch.max(output, 1)\n",
        "    correct += (expected_out.to(\"cpu\") == predicted.to(\"cpu\")).cpu().numpy().sum()\n",
        "    loss += model.compute_Loss(output, expected_out.to(get_device()))\n",
        "  loss /= len(val_loader)\n",
        "\t# Print validation metrics\n",
        "  cacc = correct/total\n",
        "  print(\"evaluation acc:{:.2%}\".format(cacc))\n",
        "  loss = loss.tolist()\n",
        "  print(\"evaluation loss:\", loss)\n",
        "  return cacc, loss\n",
        "\n",
        "def train_and_evaluate_rnn(number_of_epochs, model, train_loader, val_loader):\n",
        "  optimizer = optim.Adam(model.parameters(), lr=0.0003)\n",
        "  trainacc = []\n",
        "  trainloss = []\n",
        "  evalacc = []\n",
        "  evalloss = []\n",
        "  for epoch in trange(number_of_epochs, desc=\"Epochs\"):\n",
        "    t = time.time()\n",
        "    cacc, loss = train_rnn_epoch(model, train_loader, optimizer)\n",
        "    trainacc.append(cacc)\n",
        "    trainloss.append(loss)\n",
        "    cacc, loss = rnn_evaluation(model, val_loader, optimizer)\n",
        "    evalacc.append(cacc)\n",
        "    evalloss.append(loss)\n",
        "    print(\"this epoch took\", str(round(time.time()-t,2)), \"seconds\")\n",
        "  return trainacc, trainloss, evalacc, evalloss"
      ],
      "execution_count": 24,
      "outputs": []
    },
    {
      "cell_type": "code",
      "metadata": {
        "id": "aA1VgrL7KEzO"
      },
      "source": [
        "train_loader, val_loader = get_data_loaders(train_vectorized, val_vectorized, batch_size=128)"
      ],
      "execution_count": 25,
      "outputs": []
    },
    {
      "cell_type": "code",
      "metadata": {
        "id": "zaNJZiIYOnJf"
      },
      "source": [
        "# print(train_loader)"
      ],
      "execution_count": 26,
      "outputs": []
    },
    {
      "cell_type": "code",
      "metadata": {
        "id": "OvEMGKiC0a0A"
      },
      "source": [
        "h = 512\n",
        "model = RNN(len(vocab), h, len(emotion_to_idx), embeddim=300).to(get_device())\n",
        "# model = nn.RNN(len(vocab), h).to(get_device())\n",
        "# model = nn.RNN(50, h).to(get_device())\n",
        "trainacc, trainloss, evalacc, evalloss = train_and_evaluate_rnn(2, model, train_loader, val_loader)\n",
        "print(trainacc, trainloss, evalacc, evalloss)\n",
        "model.save_model(\"rnn_fixed.pth\") # Save our model!"
      ],
      "execution_count": null,
      "outputs": []
    },
    {
      "cell_type": "code",
      "metadata": {
        "id": "rEqt3iRA0eTT"
      },
      "source": [
        "# Example of how to load\n",
        "loaded_model = FFNN(len(vocab), h, len(emotion_to_idx))\n",
        "loaded_model.load_model(\"ffnn_fixed.pth\")"
      ],
      "execution_count": null,
      "outputs": []
    },
    {
      "cell_type": "markdown",
      "metadata": {
        "id": "_UbsqRZtWsp_"
      },
      "source": [
        "## 2.2 Part 2 Report\n",
        "For Part 2, your report should have a description of each major step of implementing the RNN accompanied by the associated code-snippet. Each step should have an explanation for why you decided to do something (when one could reasonably do the same step in a different way); your justification will not be based on empirical results in this section but should relate to something we said in class, something mentioned in any of the course texts, or some other source (i.e. literature in NLP or official PyTorch documentation). **Unjustified, vague, and/or under-substantiated explanations will not receive credit.**\n",
        "\n",
        "Things to include:\n",
        "\n",
        "1. _Representation_ \\\n",
        "Each $\\vec{x}_i$ needs to be produced in some way and should correspond to word $i$ in the text. This is different from the text classification approaches we have studied previously (BoW for example) where the entire document is represented with a single vector. Where and how is this being done for the RNN?\n",
        "\n",
        "2. _Initialization_ \\\n",
        "There will be weights that you update in training the RNN. Where and how are these initialized?\n",
        "\n",
        "3. _Training_ \\\n",
        "You are given the entire training set of N examples. How do you make use of this training set? How does the model modify its weights in training (this likely entails somewhere where gradients are computed and somehwere else where these gradients are used to update the model)?\n",
        "\n",
        "4. _Model_ \\\n",
        "This is the core model code, ie. where and how you apply the RNN to the $\\vec{x}_i$\n",
        "\n",
        "5. _Linear Classifier_ \\\n",
        "Given the outputs of the RNN, how do you consume these to actually compute $\\vec{y}$?\n",
        "\n",
        "6. _Stopping_ \\\n",
        "How does your training procedure terminate?\n",
        "\n",
        "7. _Hyperparameters_ \\\n",
        "To run your model, you must fix some hyperparameters, such as $h$ (the hidden dimensionality of the $\\vec{z}_i$ referenced above). Be sure to exhaustively describe these hyperparameters and why you set them as you did ( this almost certainly will require some brief exploration: we suggest the course text by Yoav Goldberg as well as possibly the PyTorch official documentation). Be sure to accurately cite either source.\n",
        "\n"
      ]
    },
    {
      "cell_type": "markdown",
      "metadata": {
        "id": "eA519cwBuhIW"
      },
      "source": [
        "### 2.2.1 Representation\n"
      ]
    },
    {
      "cell_type": "markdown",
      "metadata": {
        "id": "-pqvbTja2Fmv"
      },
      "source": [
        "In order to represent each tweet as a vector of vectors, we used a Glove dataset and nn.embeddings to create an embedding for each word in a tweet, with each embedding being comprised of 50 features. The embeddings and representations are created as part of preprocessing, with the embeddings matrix used to create the word embeddings of words in the dataset done separately from the actual creation of the dataset embeddings.\n",
        "\n",
        "```\n",
        "def create_embedding_matrix(word_index,embedding_dict,dimension):\n",
        "  embedding_matrix=np.zeros((len(word_index)+1,dimension))\n",
        "\n",
        "  for word,index in word_index.items():\n",
        "    if word in embedding_dict:\n",
        "      embedding_matrix[index]=embedding_dict[word]\n",
        "  return embedding_matrix\n",
        "\n",
        "embMatrix = create_embedding_matrix(word2index, glove_embedding, 50)\n",
        "\n",
        "emb_vocab_size = embMatrix.shape[0]\n",
        "emb_vector_size = embMatrix.shape[1]\n",
        "\n",
        "embedding = nn.Embedding(emb_vocab_size, emb_vector_size)\n",
        "embedding.weight=nn.Parameter(torch.tensor(embMatrix,dtype=torch.float32))\n",
        "```\n",
        "\n",
        "```\n",
        "def rnn_preprocessing(data, embedding, word2index, test=False):\n",
        "    \"\"\"rnn_preprocessing\n",
        "\n",
        "    :param data:\n",
        "    :type data:\n",
        "    :param test:\n",
        "    :type test:\n",
        "    \"\"\"\n",
        "    # Do some preprocessing similar to convert_to_vector_representation\n",
        "    # For the RNN, remember that instead of a single vector per training\n",
        "    # example, you will have a sequence of vectors where each vector\n",
        "    # represents some information about a specific token.\n",
        "    vocabsize = len(word2index)\n",
        "    maxtweetlength = 140 # the max number of words in a tweet is 140\n",
        "    if test:\n",
        "      vectorized_data = []\n",
        "      for document in data:\n",
        "        idxs = []\n",
        "        for word in document:\n",
        "          idxs.append(word2index.get(word, word2index[UNK]))\n",
        "        idxs = torch.tensor(idxs, dtype=torch.long)\n",
        "        ems2 = embedding(idxs)\n",
        "        tensd = maxtweetlength - ems2.size()[0]\n",
        "        tens0 = torch.zeros(tensd, 50)\n",
        "        ems = torch.cat((ems2, tens0), 0)\n",
        "        vectorized_data.append(ems)\n",
        "    else:\n",
        "      vectorized_data = []\n",
        "      for document, label in data:\n",
        "        idxs = []\n",
        "        for word in document:\n",
        "          idxs.append(word2index.get(word, word2index[UNK]))\n",
        "        idxs = torch.tensor(idxs, dtype=torch.long)\n",
        "        ems2 = embedding(idxs)\n",
        "        tensd = maxtweetlength - ems2.size()[0]\n",
        "        tens0 = torch.zeros(tensd, 50)\n",
        "        ems = torch.cat((ems2, tens0), 0)\n",
        "        vectorized_data.append((ems, label))\n",
        "    return vectorized_data\n",
        "```\n",
        "\n",
        "\n"
      ]
    },
    {
      "cell_type": "markdown",
      "metadata": {
        "id": "5MwU9A8jumDH"
      },
      "source": [
        "### 2.2.2 Initialization\n"
      ]
    },
    {
      "cell_type": "markdown",
      "metadata": {
        "id": "fB2JyiWM2GX0"
      },
      "source": [
        "To create our rnn, we used the built-in nn.RNN and nn.Linear, which take care of the creation of the weight matrices in their code.  As a result, the weight matrices are initialized in our RNN class as part of the nn.rnn call in forward, followed by using nn.Linear for the final linear weight matrix. Softmax and loss are also initialized here for later use in training/evaluating.\n",
        "\n",
        "```\n",
        "def __init__(self, input_dim, h, output_dim): # Add relevant parameters\n",
        "\t\tsuper(RNN, self).__init__()#input_dim, h)\n",
        "\t\t# Fill in relevant parameters\n",
        "\t\tself.h = h\n",
        "\t\tself.output_dim=output_dim\n",
        "\t\tself.W3 = nn.Linear(h, output_dim) # V\n",
        "\t\tself.W3.to(get_device())\n",
        "\t\tself.rnn = nn.RNN(50, h)\n",
        "\t\t# Ensure parameters are initialized to small values, see PyTorch documentation for guidance\n",
        "\t\tself.softmax = nn.LogSoftmax(dim=1)\n",
        "\t\tself.loss = nn.NLLLoss()\n",
        "```"
      ]
    },
    {
      "cell_type": "markdown",
      "metadata": {
        "id": "QHzl4RR6vZZO"
      },
      "source": [
        "### 2.2.3 Training\n"
      ]
    },
    {
      "cell_type": "markdown",
      "metadata": {
        "id": "rx_wSNoq2KyT"
      },
      "source": [
        "We make use of the training set via the provided fetch_data and get_data_loaders functions as well as through the provided make_vocab and make_indices functions. \n",
        "\n",
        "```\n",
        "vocab = make_vocab(train)\n",
        "vocab, word2index, index2word = make_indices(vocab)\n",
        "train_vectorized = rnn_preprocessing(train, embedding, word2index)\n",
        "val_vectorized = rnn_preprocessing(val, embedding, word2index)\n",
        "test_vectorized = rnn_preprocessing(test, embedding, word2index, True)\n",
        "```\n",
        "\n",
        "The model modifies its weights using an SGD optimizer that was created with the line \n",
        "```\n",
        "\toptimizer = optim.SGD(model.parameters(), lr=0.001, momentum=0.9)\n",
        "```\n",
        "in train_rnn_epoch and updates the weights using the optim's .step() function."
      ]
    },
    {
      "cell_type": "markdown",
      "metadata": {
        "id": "rCBvcHgRvn8x"
      },
      "source": [
        "### 2.2.4 Model\n"
      ]
    },
    {
      "cell_type": "markdown",
      "metadata": {
        "id": "hzUweVa72MoU"
      },
      "source": [
        "We apply the model by calling it in train_rnn_epoch with the line:\n",
        "\n",
        "```\n",
        "output = model(torch.autograd.Variable(input_batch).to(get_device()))\n",
        "```\n",
        "More specifically, this line runs our forward function in our RNN class. This function begins by finding the length of the original tweet so that later, we can grab the predicted value from the true end of the sequence rather than the end of the padded sequence. The function then runs the inputs through the nn.rnn function, puts this output through the linear layer to get the final output layer, softmaxes this output to get the probabilities, and lastly, returns the predicted values found at the true end of the sequence.\n",
        "\n",
        "```\n",
        "def forward(self, inputs):\n",
        "\t\tzeros = torch.zeros(50).to(get_device())\n",
        "\t\tbs = inputs.size()[0]\n",
        "\t\tlast = [-1]*bs\n",
        "\t\tb = 1\n",
        "\t\tfor batch in range(bs):\n",
        "\t\t\tfor tweet in range(inputs.size()[1]):\n",
        "\t\t\t\tcurrtweet = inputs[batch][tweet]\n",
        "\t\t\t\tif torch.abs(currtweet).sum() <= 0.1 and b == 1:\n",
        "\t\t\t\t\tlast[batch] = tweet\n",
        "\t\t\t\t\tb = 0\n",
        "\t\t\t\tif b == 0:\n",
        "\t\t\t\t\tbreak\n",
        "\t\t\tif b == 0:\n",
        "\t\t\t\tbreak\n",
        "\t\toutputs, h_n = self.rnn(inputs)\n",
        "\t\th2 = self.W3(outputs)\n",
        "\t\tpredicted_vector = self.softmax(h2) # remember to include the predicted \n",
        "\t\tpv = torch.tensor([[]]).to(get_device())\n",
        "\t\ti = 0\n",
        "\t\tfor batch in predicted_vector:\n",
        "\t\t\tpv= torch.cat((pv,torch.unsqueeze(batch[last[i]],0)),1)\n",
        "\t\t\ti +=1\n",
        "\t\treturn pv\n",
        "```\n"
      ]
    },
    {
      "cell_type": "markdown",
      "metadata": {
        "id": "wgoleuX2vrLz"
      },
      "source": [
        "### 2.2.5 Linear Classifier"
      ]
    },
    {
      "cell_type": "markdown",
      "metadata": {
        "id": "Cjia6Ge32O4v"
      },
      "source": [
        "Given the outputs of nn.RNN, we then run it through the linear layer as mentioned above and softmax this result to get the predicted vector. Later, outside of our rnn model, we take the predicted vector as the output and find the max of the vector using the following:\n",
        "```\n",
        "_, predicted = torch.max(output, 0)\n",
        "```\n",
        "This line finds the max of the predicted vector. This result should be our final prediction answer."
      ]
    },
    {
      "cell_type": "markdown",
      "metadata": {
        "id": "AEfJKPWlvvPO"
      },
      "source": [
        "### 2.2.6 Stopping\n"
      ]
    },
    {
      "cell_type": "markdown",
      "metadata": {
        "id": "kb4Tc3Fe2Shr"
      },
      "source": [
        "Our model stops training after running a predetermined number of epochs."
      ]
    },
    {
      "cell_type": "markdown",
      "metadata": {
        "id": "wpT2Ntgmv0RD"
      },
      "source": [
        "### 2.2.7 Hyperparameters\n"
      ]
    },
    {
      "cell_type": "markdown",
      "metadata": {
        "id": "kdSHK0HF2ipj"
      },
      "source": [
        "Our hyperparameters include:\n",
        "\n",
        "*   h: the number of hidden layers\n",
        "*   embed_dim: the number of features embedded\n",
        "*   batch_size: the number of tweets that are used in a single batch to train the RNN\n",
        "*   word embedding used: We used a pretrained glove word embedding. There are however other possible pretrained word embeddings that exist and could be used in place of it\n",
        "\n",
        "We chose 512 for h because it was the number given for h in the implementation of FFNN that we debugged in part 1. Ultimately, this parameter does not matter since our implementation doesn't actually work.\n",
        "\n",
        "We chose 50 features for our embed_dim because it was the number of features we grabbed from our glove word embedding.\n",
        "\n",
        "We used 1 for our batch size as we were unable to avoid dimension errors when using other batch sizes in spite of our best efforts to debug.\n",
        "\n",
        "We chose to use a glove word embedding with only 50 features because it was the smallest glove word embedding from stanford. We chose to use the smallest to minimize train time. This specific glove word embedding is the 50 feature glove word embedding that contains 6B tokens and was trained on the wikipedia 2014 and gigaword 5.\n"
      ]
    },
    {
      "cell_type": "markdown",
      "metadata": {
        "id": "nJqQTVxdZjQ3"
      },
      "source": [
        "# Part 3: Analysis\n",
        "From **Part 1** and **Part 2**, you will have two different models in hand for performing the same emotion detection task. In **Part 3**, you will conduct a comprehensive analysis of these models, focusing on two comparative settings."
      ]
    },
    {
      "cell_type": "markdown",
      "metadata": {
        "id": "szhOtAUuheQU"
      },
      "source": [
        "## Part 3 Note\n",
        "You will be required to submit the code used in finding these results on CMSX. This code should be legible and we will consult it if we find issues in the results. It is worth noting that in **Part 1** and **Part 2**, we primarily are considering the correctness of the code-snippets in the report. If your model is flawed in a way that isn’t exposed by those snippets, this will likely surface in your results for **Part 3**. We will deduct points for correctness in this section to reflect this and we will try to localize where the error is (or think it is, if it is opaque from your code). That said, we will be lenient about absolute performance (within reason) in this section."
      ]
    },
    {
      "cell_type": "markdown",
      "metadata": {
        "id": "CPT5RutAZzaU"
      },
      "source": [
        "## 3.1: Across-Model Comparison\n",
        "In this section, you will report results detailing the comparison of the two models. Specifically, we will consider the issue of _fair comparison_<sup>5</sup>, which is a fundamental notion in NLP and ML research and practice. In particular, given model $A$, it is likely the case we can make a model $B$ that is computationally more complex and, hence, more costly and achieves superior performance. However, this makes for an unfair comparison. For our purposes, we want to study how the FFNN and RNN compare when we try to control for hyperparameters and other configurable values being of similar computational cost<sup>6</sup>. That said, it is impossible to have identical configurations as these are different models, i.e. the RNN simply has hyperparameters for which there are no analogues in the FFNN.\n",
        "\n",
        "\n",
        "In the report you will need to begin by describing 3 pairs of configurations, with each pair being comprised of a FFNN configuration and a RNN configuration that constitute a _fair comparison_. You will need to argue for why the two parts of each pair are a fair comparison. Across the pairs, you should try different types of configurations (e.g. trying to resolve like questions of the form: _Does the FFNN perform better or worse when the hidden dimensionality is small as opposed to when it is large?_) and justify what you are trying to study by having the results across the pairs.\n",
        "\n",
        "\n",
        "Next, you will report the quantitative accuracy of the 6 resulting models. You will\n",
        "analyze these results and then move on to a more descriptive analysis.\n",
        "\n",
        "The descriptive analysis can take one of two forms<sup>7</sup>:\n",
        "\n",
        "1. _Nuanced quantitative analysis_ \\\n",
        "If you choose this option, you will need to further break down the quantitative statistics you reported initially. We provide some initial strategies to prime you for what you should think about in doing this: one possible starting point is to consider: if model $X$ achieves greater accuracy than model $Y$, to what extent is $X$ getting everything correct that $Y$ gets correct? Alternatively, how is model performance affected if you measure performance on a specific strata/subset of the reviews?\n",
        "\n",
        "2. _Nuanced qualitative analysis_ \\\n",
        "If you choose this option, you will need to select individual examples and try to explain or reason about why one model may be getting them right whereas the other isn’t. Are there any examples that all 6 models get right or wrong and, if so, can you hypothesize a reason why this occurs?"
      ]
    },
    {
      "cell_type": "markdown",
      "metadata": {
        "id": "y2Zqj0etww3C"
      },
      "source": [
        "### 3.1.1 Configuration 1\n",
        "Modify the code below for this configuration."
      ]
    },
    {
      "cell_type": "code",
      "metadata": {
        "id": "8MxvtuTPfaWi"
      },
      "source": [
        "h = 512\n",
        "train, val, test = fetch_data(train_path, val_path, test_path)\n",
        "vocab = make_vocab(train)\n",
        "vocab, word2index, index2word = make_indices(vocab)\n",
        "train_vectorized = convert_to_vector_representation(train, word2index)\n",
        "val_vectorized = convert_to_vector_representation(val, word2index)\n",
        "test_vectorized = convert_to_vector_representation(test, word2index, True)\n",
        "\n",
        "train_loader, val_loader = get_data_loaders(train_vectorized, val_vectorized, batch_size=16)\n",
        "ffnn_config_1 = FFNN(len(vocab), h, len(emotion_to_idx)).to(get_device())\n",
        "ffnn1tacc, ffnn1tloss, ffnn1eacc, ffnn1eloss = train_and_evaluate(45, ffnn_config_1, train_loader, val_loader)"
      ],
      "execution_count": null,
      "outputs": []
    },
    {
      "cell_type": "code",
      "metadata": {
        "id": "UU-V8uSLHE8M"
      },
      "source": [
        "h = 512\n",
        "glove_path = os.path.join(os.getcwd(), \"drive\", \"My Drive\", \"CS 4740\", \"Project 3\", \"glove.6B.50d.txt\") # replace based on your Google drive organization\n",
        "glove = pd.read_csv(glove_path, sep=\" \", quoting=3, header=None, index_col=0)\n",
        "glove_embedding = {key: val.values for key, val in glove.T.items()}\n",
        "embMatrix = create_embedding_matrix(word2index, glove_embedding, 50)\n",
        "emb_vocab_size = embMatrix.shape[0]\n",
        "emb_vector_size = embMatrix.shape[1]\n",
        "embedding = nn.Embedding(emb_vocab_size, emb_vector_size)\n",
        "embedding.weight=nn.Parameter(torch.tensor(embMatrix,dtype=torch.float32))\n",
        "train, val, test = fetch_data(train_path, val_path, test_path)\n",
        "vocab = make_vocab(train)\n",
        "vocab, word2index, index2word = make_indices(vocab)\n",
        "train_vectorized = rnn_preprocessing(train, embedding, word2index)\n",
        "val_vectorized = rnn_preprocessing(val, embedding, word2index)\n",
        "test_vectorized = rnn_preprocessing(test, embedding, word2index, True)\n",
        "train_loader, val_loader = get_data_loaders(train_vectorized, val_vectorized, batch_size=16)\n",
        "\n",
        "rnn_config_1 = RNN(len(vocab), h, len(emotion_to_idx)).to(get_device())\n",
        "rnn1tacc, rnn1tloss, rnn1eacc, rnn1eloss = train_and_evaluate_rnn(5, rnn_config_1, train_loader, val_loader)"
      ],
      "execution_count": null,
      "outputs": []
    },
    {
      "cell_type": "markdown",
      "metadata": {
        "id": "DKTJLa2hyjaz"
      },
      "source": [
        "### 3.1.1 Report\n",
        "Describe configurations, report the results, and then perform a nuanced analysis"
      ]
    },
    {
      "cell_type": "code",
      "metadata": {
        "colab": {
          "base_uri": "https://localhost:8080/"
        },
        "id": "4EK8Z0vBuMG4",
        "outputId": "594c71f6-cabd-4151-c85b-41ad2f0d9d50"
      },
      "source": [
        "print(ffnn1tacc, ffnn1tloss, ffnn1eacc, ffnn1eloss)\n",
        "print(rnn1tacc, rnn1tloss, rnn1eacc, rnn1eloss)"
      ],
      "execution_count": 78,
      "outputs": [
        {
          "output_type": "stream",
          "text": [
            "[0.6361, 0.9422, 0.9765, 0.9885, 0.9918, 0.9947, 0.9955, 0.9964, 0.997, 0.9976, 0.9973, 0.9978, 0.9979, 0.9978, 0.998, 0.9978, 0.9974, 0.9983, 0.9984, 0.9982, 0.9985, 0.9985, 0.9985, 0.9983, 0.9985, 0.9984, 0.9984, 0.9982, 0.9986, 0.9988, 0.9986, 0.9985, 0.9986, 0.9988, 0.9987, 0.9986, 0.9988, 0.9988, 0.9986, 0.9987, 0.9985, 0.9985, 0.9988, 0.9984, 0.9984] [0.5959615707397461, 0.0908910483121872, 0.04037168622016907, 0.039949554949998856, 0.1484653651714325, 0.003742658533155918, 0.05429063364863396, 0.024622434750199318, 0.013513883575797081, 0.007929968647658825, 0.009977334178984165, 0.004833679646253586, 0.004977252800017595, 0.0022507510147988796, 0.0026740063913166523, 0.09141163527965546, 0.3635973036289215, 0.019196301698684692, 0.00012979822349734604, 0.0005692854756489396, 0.004636810626834631, 4.042337604914792e-05, 0.00020987798052374274, 0.0006473838584497571, 0.007221302483230829, 0.00023108167806640267, 9.201299690175802e-06, 3.436542101553641e-05, 0.001320709241554141, 0.0006397288525477052, 0.20187415182590485, 9.978885645978153e-05, 4.112522583454847e-05, 0.0001899360795505345, 2.489655526005663e-05, 0.017269300296902657, 2.255753497593105e-05, 9.719900117488578e-05, 1.9460130715742707e-05, 0.0005070303450338542, 0.0011704211356118321, 3.4649448934942484e-05, 4.589517175190849e-06, 1.288912335439818e-05, 8.304005314130336e-05] [0.8758893280632412, 0.8940711462450592, 0.9075098814229249, 0.9011857707509882, 0.8964426877470356, 0.8964426877470356, 0.8972332015810277, 0.8972332015810277, 0.8893280632411067, 0.8845849802371542, 0.8798418972332016, 0.8774703557312253, 0.8758893280632412, 0.8703557312252964, 0.8735177865612648, 0.8703557312252964, 0.8703557312252964, 0.867193675889328, 0.866403162055336, 0.8592885375494071, 0.8687747035573122, 0.8703557312252964, 0.8592885375494071, 0.8584980237154151, 0.8592885375494071, 0.8545454545454545, 0.857707509881423, 0.8584980237154151, 0.8545454545454545, 0.8466403162055336, 0.849802371541502, 0.849802371541502, 0.8490118577075099, 0.8426877470355731, 0.8395256916996048, 0.8371541501976285, 0.8474308300395257, 0.8371541501976285, 0.8395256916996048, 0.8426877470355731, 0.8395256916996048, 0.8490118577075099, 0.8403162055335969, 0.8395256916996048, 0.8434782608695652] [0.5818524360656738, 0.3309061825275421, 0.295035183429718, 0.2999822795391083, 0.31815698742866516, 0.33147189021110535, 0.3553335666656494, 0.3711661398410797, 0.4088692367076874, 0.41683098673820496, 0.4614852964878082, 0.47925981879234314, 0.5127515196800232, 0.5159334540367126, 0.5453658699989319, 0.552423894405365, 0.5885367393493652, 0.6114550828933716, 0.6573881506919861, 0.7000104188919067, 0.7025781273841858, 0.6954755187034607, 0.7484493851661682, 0.7691007256507874, 0.7824446558952332, 0.8189116716384888, 0.8095229268074036, 0.8424460291862488, 0.8490959405899048, 0.9200396537780762, 0.8944684267044067, 0.8793164491653442, 0.9187454581260681, 0.9750957489013672, 1.0365068912506104, 1.0502078533172607, 1.0163248777389526, 1.0586810111999512, 1.0650113821029663, 1.0424660444259644, 1.1698384284973145, 1.0754355192184448, 1.107780933380127, 1.1112873554229736, 1.090628981590271]\n",
            "[0.23, 0.2416, 0.2418, 0.2473, 0.2491] [1.5939525365829468, 1.5783215761184692, 1.564292073249817, 1.684956431388855, 1.5693957805633545] [0.2490118577075099, 0.25217391304347825, 0.24980237154150198, 0.26877470355731226, 0.25217391304347825] [1.5850070714950562, 1.5768619775772095, 1.5720354318618774, 1.571794867515564, 1.581983208656311]\n"
          ],
          "name": "stdout"
        }
      ]
    },
    {
      "cell_type": "code",
      "metadata": {
        "colab": {
          "base_uri": "https://localhost:8080/",
          "height": 283
        },
        "id": "U3bXMjVb1_Vb",
        "outputId": "773346af-c9d5-4a9f-f99d-06eea69fbaf5"
      },
      "source": [
        "f1ta, = plt.plot(ffnn1tacc, label=\"ffnn config1 train acc\")\n",
        "f1ea, = plt.plot(ffnn1eacc, label=\"ffnn config1 eval acc\")\n",
        "plt.legend(handles=[f1ta, f1ea])\n",
        "plt.ylabel(\"accuracy\")\n",
        "plt.xlabel(\"epoch count\")\n",
        "plt.ylim(0, 1)\n",
        "plt.show()"
      ],
      "execution_count": 103,
      "outputs": [
        {
          "output_type": "display_data",
          "data": {
            "image/png": "[encoded data removed]",
            "text/plain": [
              "<Figure size 432x288 with 1 Axes>"
            ]
          },
          "metadata": {
            "tags": [],
            "needs_background": "light"
          }
        }
      ]
    },
    {
      "cell_type": "code",
      "metadata": {
        "colab": {
          "base_uri": "https://localhost:8080/",
          "height": 546
        },
        "id": "-qNeMJIc2vR4",
        "outputId": "e00614db-7500-4542-c466-ec7a4bd93aac"
      },
      "source": [
        "r1ta, = plt.plot(rnn1tacc, label=\"rnn config1 train acc\")\n",
        "r1ea, = plt.plot(rnn1eacc, label=\"rnn config1 eval acc\")\n",
        "plt.legend(handles=[r1ta, r1ea])\n",
        "plt.ylabel(\"accuracy\")\n",
        "plt.xlabel(\"epoch count\")\n",
        "plt.ylim(0, 1)\n",
        "plt.show()\n",
        "r1ta, = plt.plot(rnn1tacc, label=\"rnn config1 train acc\")\n",
        "r1ea, = plt.plot(rnn1eacc, label=\"rnn config1 eval acc\")\n",
        "plt.legend(handles=[r1ta, r1ea])\n",
        "plt.ylabel(\"accuracy\")\n",
        "plt.xlabel(\"epoch count\")\n",
        "plt.show()"
      ],
      "execution_count": 101,
      "outputs": [
        {
          "output_type": "display_data",
          "data": {
            "image/png": "[encoded data removed]",
            "text/plain": [
              "<Figure size 432x288 with 1 Axes>"
            ]
          },
          "metadata": {
            "tags": [],
            "needs_background": "light"
          }
        },
        {
          "output_type": "display_data",
          "data": {
            "image/png": "[encoded data removed]",
            "text/plain": [
              "<Figure size 432x288 with 1 Axes>"
            ]
          },
          "metadata": {
            "tags": [],
            "needs_background": "light"
          }
        }
      ]
    },
    {
      "cell_type": "code",
      "metadata": {
        "colab": {
          "base_uri": "https://localhost:8080/",
          "height": 279
        },
        "id": "MC3R9Plg3nyZ",
        "outputId": "ad886141-3a22-45a6-9b5d-3fd8ba43a010"
      },
      "source": [
        "f1ts, = plt.plot(ffnn1tloss, label=\"ffnn config1 train loss\")\n",
        "f1es, = plt.plot(ffnn1eloss, label=\"ffnn config1 eval loss\")\n",
        "plt.legend(handles=[f1ts, f1es])\n",
        "plt.ylabel(\"loss\")\n",
        "plt.xlabel(\"epoch count\")\n",
        "plt.ylim(0, 1.7)\n",
        "plt.show()"
      ],
      "execution_count": 110,
      "outputs": [
        {
          "output_type": "display_data",
          "data": {
            "image/png": "[encoded data removed]",
            "text/plain": [
              "<Figure size 432x288 with 1 Axes>"
            ]
          },
          "metadata": {
            "tags": [],
            "needs_background": "light"
          }
        }
      ]
    },
    {
      "cell_type": "code",
      "metadata": {
        "colab": {
          "base_uri": "https://localhost:8080/",
          "height": 279
        },
        "id": "-Tay2Y0b4m4v",
        "outputId": "c0228123-37c8-4209-f5bd-f3f1d720217a"
      },
      "source": [
        "r1ts, = plt.plot(rnn1tloss, label=\"rnn config1 train loss\")\n",
        "r1es, = plt.plot(rnn1eloss, label=\"rnn config1 eval loss\")\n",
        "plt.legend(handles=[r1ts, r1es])\n",
        "plt.ylabel(\"loss\")\n",
        "plt.xlabel(\"epoch count\")\n",
        "plt.ylim(0, 1.7)\n",
        "plt.show()"
      ],
      "execution_count": 112,
      "outputs": [
        {
          "output_type": "display_data",
          "data": {
            "image/png": "[encoded data removed]",
            "text/plain": [
              "<Figure size 432x288 with 1 Axes>"
            ]
          },
          "metadata": {
            "tags": [],
            "needs_background": "light"
          }
        }
      ]
    },
    {
      "cell_type": "markdown",
      "metadata": {
        "id": "uM1ZNhqK2yx-"
      },
      "source": [
        "_Nuanced quantitative analysis_\n",
        "\n",
        "These are the base configurations for our models. At base, the FFNN takes about 2.6 seconds and the RNN takes about 27 seconds. We run multiple epochs of each to reach the same amount of time and use the same number of hidden features (512), batch size (16), and the same optimizer (adam, lr=.0003) in order to make a fair comparison.\n",
        "\n",
        "Just above, you can see graphs of our results. The first two compare FFNN train accuracy vs evaluation accuracy. The second compares FFNN loss on training v evaluation. Similarly, the third and fourth graphs compare RNN train accuracy v evaluation accuracy and loss on train v evaluation. \n",
        "\n",
        "Our FFNN train accuracy runs as expected, however the evaluation accuracy actually decreases slightly over each epoch. As one would expect given these results, the loss for training decreases over time, but increases slightly for the evaluation.\n",
        "\n",
        "Our RNN train and evaluation accuracy perform similarly, both slightly increasing over time, however the loss remains about the same.\n",
        "\n",
        "Due to the limitations of RNN, the FFNN model outperforms our RNN model in both accuracy and loss."
      ]
    },
    {
      "cell_type": "markdown",
      "metadata": {
        "id": "BdNiBJPrRvg4"
      },
      "source": [
        "### 3.1.2 Configuration 2\n",
        "Modify the code below for this configuration."
      ]
    },
    {
      "cell_type": "code",
      "metadata": {
        "id": "ikC4oU5tP07z"
      },
      "source": [
        "h = 256\n",
        "train, val, test = fetch_data(train_path, val_path, test_path)\n",
        "vocab = make_vocab(train)\n",
        "vocab, word2index, index2word = make_indices(vocab)\n",
        "train_vectorized = convert_to_vector_representation(train, word2index)\n",
        "val_vectorized = convert_to_vector_representation(val, word2index)\n",
        "test_vectorized = convert_to_vector_representation(test, word2index, True)\n",
        "\n",
        "train_loader, val_loader = get_data_loaders(train_vectorized, val_vectorized, batch_size=16)\n",
        "ffnn_config_2 = FFNN(len(vocab), h, len(emotion_to_idx)).to(get_device())\n",
        "ffnn2tacc, ffnn2tloss, ffnn2eacc, ffnn2eloss = train_and_evaluate(71, ffnn_config_2, train_loader, val_loader)"
      ],
      "execution_count": null,
      "outputs": []
    },
    {
      "cell_type": "code",
      "metadata": {
        "id": "ILKcPCfxP325"
      },
      "source": [
        "h = 256\n",
        "glove_path = os.path.join(os.getcwd(), \"drive\", \"My Drive\", \"CS 4740\", \"Project 3\", \"glove.6B.50d.txt\") # replace based on your Google drive organization\n",
        "glove = pd.read_csv(glove_path, sep=\" \", quoting=3, header=None, index_col=0)\n",
        "glove_embedding = {key: val.values for key, val in glove.T.items()}\n",
        "embMatrix = create_embedding_matrix(word2index, glove_embedding, 50)\n",
        "emb_vocab_size = embMatrix.shape[0]\n",
        "emb_vector_size = embMatrix.shape[1]\n",
        "embedding = nn.Embedding(emb_vocab_size, emb_vector_size)\n",
        "embedding.weight=nn.Parameter(torch.tensor(embMatrix,dtype=torch.float32))\n",
        "train, val, test = fetch_data(train_path, val_path, test_path)\n",
        "vocab = make_vocab(train)\n",
        "vocab, word2index, index2word = make_indices(vocab)\n",
        "train_vectorized = rnn_preprocessing(train, embedding, word2index)\n",
        "val_vectorized = rnn_preprocessing(val, embedding, word2index)\n",
        "test_vectorized = rnn_preprocessing(test, embedding, word2index, True)\n",
        "train_loader, val_loader = get_data_loaders(train_vectorized, val_vectorized, batch_size=16)\n",
        "\n",
        "rnn_config_2 = RNN(len(vocab), h, len(emotion_to_idx)).to(get_device())\n",
        "rnn2tacc, rnn2tloss, rnn2eacc, rnn2eloss = train_and_evaluate_rnn(5, rnn_config_2, train_loader, val_loader)"
      ],
      "execution_count": null,
      "outputs": []
    },
    {
      "cell_type": "code",
      "metadata": {
        "colab": {
          "base_uri": "https://localhost:8080/"
        },
        "id": "WfMIM90bzimi",
        "outputId": "1857782d-620b-463b-ca9f-67b80b3ca68f"
      },
      "source": [
        "print(ffnn2tacc, ffnn2tloss, ffnn2eacc, ffnn2eloss)\n",
        "print(rnn2tacc, rnn2tloss, rnn2eacc, rnn2eloss)"
      ],
      "execution_count": 80,
      "outputs": [
        {
          "output_type": "stream",
          "text": [
            "[0.6001, 0.9321, 0.9718, 0.9841, 0.9899, 0.9925, 0.9942, 0.9959, 0.9968, 0.9967, 0.9972, 0.9975, 0.9974, 0.9977, 0.9978, 0.998, 0.9978, 0.9981, 0.9978, 0.9983, 0.9985, 0.9982, 0.9982, 0.9984, 0.9984, 0.9986, 0.9987, 0.9984, 0.9985, 0.9983, 0.9983, 0.9986, 0.9985, 0.9987, 0.9988, 0.9988, 0.9987, 0.9985, 0.9987, 0.9986, 0.9986, 0.9988, 0.9988, 0.9986, 0.9989, 0.9984, 0.9987, 0.9986, 0.9987, 0.9987, 0.9987, 0.9985, 0.9987, 0.9987, 0.9989, 0.9988, 0.9987, 0.9986, 0.9984, 0.9987, 0.999, 0.9987, 0.9984, 0.9988, 0.9987, 0.9987, 0.9987, 0.9989, 0.9987, 0.9989, 0.9987] [0.9452870488166809, 0.4307709038257599, 0.11400096863508224, 0.03446585312485695, 0.03243086114525795, 0.02384134754538536, 0.012805815786123276, 0.11520334333181381, 0.0038376699667423964, 0.002331039635464549, 0.0013807200593873858, 0.0089028375223279, 0.014852019026875496, 0.0014664959162473679, 0.00010882992501137778, 0.013112055137753487, 0.002101311692968011, 0.0006912993849255145, 0.0005901294061914086, 0.0002591933007352054, 0.0002507700410205871, 0.0001474814780522138, 0.0022667322773486376, 6.342802953440696e-05, 0.005631862673908472, 0.0002556032268330455, 0.0002443459816277027, 6.623586523346603e-05, 4.771217572852038e-05, 0.11531226336956024, 0.0010197177762165666, 0.00019226061704102904, 1.749284092511516e-05, 0.00010162295802729204, 2.1561101675615646e-05, 0.0002482334675733, 0.00014894425112288445, 6.985316576901823e-05, 1.3924004633736331e-05, 2.4152794139808975e-05, 7.353620458161458e-05, 1.007295668387087e-05, 0.0038026345428079367, 0.014031382277607918, 6.481862783402903e-06, 5.724017319153063e-05, 3.0025444175407756e-06, 0.00014412544260267168, 0.004236581735312939, 4.0381319195148535e-06, 3.400619971216656e-05, 5.043982127972413e-06, 2.8152880986453965e-05, 3.829574325209251e-06, 7.019246550044045e-05, 4.236551467329264e-05, 0.015588776208460331, 8.317631727550179e-05, 0.003074567299336195, 0.0007400476024486125, 6.973611561988946e-06, 0.0001604733697604388, 0.1499258279800415, 2.43672366195824e-05, 0.00014650342927780002, 2.384163735769107e-06, 1.4454047914114199e-06, 6.384929292835295e-06, 4.894924131804146e-06, 3.0100015919742873e-06, 0.00271189259365201] [0.866403162055336, 0.9011857707509882, 0.9114624505928853, 0.908300395256917, 0.908300395256917, 0.9067193675889328, 0.8956521739130435, 0.8988142292490119, 0.892490118577075, 0.8901185770750988, 0.8932806324110671, 0.8909090909090909, 0.8790513833992095, 0.8806324110671937, 0.8806324110671937, 0.8782608695652174, 0.867193675889328, 0.867193675889328, 0.8679841897233201, 0.8703557312252964, 0.8592885375494071, 0.8711462450592885, 0.8600790513833992, 0.8703557312252964, 0.8584980237154151, 0.8584980237154151, 0.857707509881423, 0.8537549407114624, 0.8608695652173913, 0.841106719367589, 0.8490118577075099, 0.8474308300395257, 0.8553359683794466, 0.8387351778656127, 0.8403162055335969, 0.8482213438735178, 0.841106719367589, 0.8466403162055336, 0.841106719367589, 0.8403162055335969, 0.83399209486166, 0.8426877470355731, 0.841897233201581, 0.8371541501976285, 0.8379446640316206, 0.83399209486166, 0.8355731225296442, 0.833201581027668, 0.8276679841897233, 0.8324110671936759, 0.8355731225296442, 0.833201581027668, 0.8347826086956521, 0.8324110671936759, 0.8324110671936759, 0.833201581027668, 0.8324110671936759, 0.8308300395256917, 0.8292490118577075, 0.8300395256916996, 0.8292490118577075, 0.8268774703557312, 0.8324110671936759, 0.8260869565217391, 0.825296442687747, 0.8260869565217391, 0.8237154150197629, 0.8308300395256917, 0.8284584980237154, 0.8276679841897233, 0.8308300395256917] [0.7885562777519226, 0.37223920226097107, 0.3151133060455322, 0.2907617390155792, 0.29392489790916443, 0.2963198125362396, 0.329843670129776, 0.3475522994995117, 0.3500078618526459, 0.38914239406585693, 0.38670626282691956, 0.42127224802970886, 0.4687718451023102, 0.46941158175468445, 0.514329195022583, 0.594194233417511, 0.5565490126609802, 0.5786829590797424, 0.5833004713058472, 0.6451091170310974, 0.6838189363479614, 0.6549243330955505, 0.6886007785797119, 0.7105333209037781, 0.7347416281700134, 0.7455291748046875, 0.7939302325248718, 0.7799651622772217, 0.798043966293335, 0.8718705177307129, 0.902704656124115, 0.9083998799324036, 0.888970673084259, 0.9255596995353699, 0.949062168598175, 0.9605542421340942, 1.014517068862915, 0.9922211766242981, 1.062974214553833, 1.0172553062438965, 1.06123948097229, 1.0679820775985718, 1.084144115447998, 1.127268671989441, 1.1404379606246948, 1.1535476446151733, 1.1770821809768677, 1.2005503177642822, 1.2321808338165283, 1.2400232553482056, 1.2267061471939087, 1.2549799680709839, 1.2350053787231445, 1.3077753782272339, 1.2993320226669312, 1.351588487625122, 1.3197801113128662, 1.3190809488296509, 1.357251524925232, 1.3424382209777832, 1.3650611639022827, 1.3832073211669922, 1.3614543676376343, 1.434273600578308, 1.4606815576553345, 1.382766842842102, 1.4473330974578857, 1.3953202962875366, 1.4224261045455933, 1.430745005607605, 1.443562626838684]\n",
            "[0.2322, 0.2423, 0.2425, 0.2462, 0.2529] [1.6286072731018066, 1.6925333738327026, 1.5704830884933472, 1.555435299873352, 1.584594488143921] [0.2426877470355731, 0.2458498023715415, 0.24980237154150198, 0.2648221343873518, 0.2648221343873518] [1.5917118787765503, 1.587971568107605, 1.5769981145858765, 1.5738708972930908, 1.5742982625961304]\n"
          ],
          "name": "stdout"
        }
      ]
    },
    {
      "cell_type": "markdown",
      "metadata": {
        "id": "tR1kOmYIyqdV"
      },
      "source": [
        "### 3.1.2 Report\n",
        "Describe configurations, report the results, and then perform a nuanced analysis"
      ]
    },
    {
      "cell_type": "code",
      "metadata": {
        "colab": {
          "base_uri": "https://localhost:8080/",
          "height": 283
        },
        "id": "k6yu5FJY5DTc",
        "outputId": "cd19d77a-aeaa-42d8-acd4-3b74605a32c9"
      },
      "source": [
        "f2ta, = plt.plot(ffnn2tacc, label=\"ffnn config2 train acc\")\n",
        "f2ea, = plt.plot(ffnn2eacc, label=\"ffnn config2 eval acc\")\n",
        "plt.legend(handles=[f2ta, f2ea])\n",
        "plt.ylabel(\"accuracy\")\n",
        "plt.xlabel(\"epoch count\")\n",
        "plt.ylim(0, 1)\n",
        "plt.show()"
      ],
      "execution_count": 113,
      "outputs": [
        {
          "output_type": "display_data",
          "data": {
            "image/png": "[encoded data removed]",
            "text/plain": [
              "<Figure size 432x288 with 1 Axes>"
            ]
          },
          "metadata": {
            "tags": [],
            "needs_background": "light"
          }
        }
      ]
    },
    {
      "cell_type": "code",
      "metadata": {
        "colab": {
          "base_uri": "https://localhost:8080/",
          "height": 545
        },
        "id": "28JJZJq05K4I",
        "outputId": "456e7a62-c945-46eb-9e2e-71d2ad480200"
      },
      "source": [
        "r2ta, = plt.plot(rnn2tacc, label=\"rnn config2 train acc\")\n",
        "r2ea, = plt.plot(rnn2eacc, label=\"rnn config2 eval acc\")\n",
        "plt.legend(handles=[r2ta, r2ea])\n",
        "plt.ylabel(\"accuracy\")\n",
        "plt.xlabel(\"epoch count\")\n",
        "plt.ylim(0, 1)\n",
        "plt.show()\n",
        "r2ta, = plt.plot(rnn2tacc, label=\"rnn config2 train acc\")\n",
        "r2ea, = plt.plot(rnn2eacc, label=\"rnn config2 eval acc\")\n",
        "plt.legend(handles=[r2ta, r2ea])\n",
        "plt.ylabel(\"accuracy\")\n",
        "plt.xlabel(\"epoch count\")\n",
        "plt.show()"
      ],
      "execution_count": 115,
      "outputs": [
        {
          "output_type": "display_data",
          "data": {
            "image/png": "[encoded data removed]",
            "text/plain": [
              "<Figure size 432x288 with 1 Axes>"
            ]
          },
          "metadata": {
            "tags": [],
            "needs_background": "light"
          }
        },
        {
          "output_type": "display_data",
          "data": {
            "image/png": "[encoded data removed]",
            "text/plain": [
              "<Figure size 432x288 with 1 Axes>"
            ]
          },
          "metadata": {
            "tags": [],
            "needs_background": "light"
          }
        }
      ]
    },
    {
      "cell_type": "code",
      "metadata": {
        "colab": {
          "base_uri": "https://localhost:8080/",
          "height": 279
        },
        "id": "gcL86dpj5VIF",
        "outputId": "ebc4603f-494c-48ae-b2fb-0db526d5dc64"
      },
      "source": [
        "f2ts, = plt.plot(ffnn2tloss, label=\"ffnn config2 train loss\")\n",
        "f2es, = plt.plot(ffnn2eloss, label=\"ffnn config2 eval loss\")\n",
        "plt.legend(handles=[f2ts, f2es])\n",
        "plt.ylabel(\"loss\")\n",
        "plt.xlabel(\"epoch count\")\n",
        "plt.ylim(0, 1.7)\n",
        "plt.show()"
      ],
      "execution_count": 116,
      "outputs": [
        {
          "output_type": "display_data",
          "data": {
            "image/png": "[encoded data removed]",
            "text/plain": [
              "<Figure size 432x288 with 1 Axes>"
            ]
          },
          "metadata": {
            "tags": [],
            "needs_background": "light"
          }
        }
      ]
    },
    {
      "cell_type": "code",
      "metadata": {
        "colab": {
          "base_uri": "https://localhost:8080/",
          "height": 279
        },
        "id": "5Qo80qzx5b0K",
        "outputId": "3509e115-64fd-4479-ee26-8d0afc5c85b1"
      },
      "source": [
        "r2ts, = plt.plot(rnn2tloss, label=\"rnn config2 train loss\")\n",
        "r2es, = plt.plot(rnn2eloss, label=\"rnn config2 eval loss\")\n",
        "plt.legend(handles=[r2ts, r2es])\n",
        "plt.ylabel(\"loss\")\n",
        "plt.xlabel(\"epoch count\")\n",
        "plt.ylim(0, 1.7)\n",
        "plt.show()"
      ],
      "execution_count": 118,
      "outputs": [
        {
          "output_type": "display_data",
          "data": {
            "image/png": "[encoded data removed]",
            "text/plain": [
              "<Figure size 432x288 with 1 Axes>"
            ]
          },
          "metadata": {
            "tags": [],
            "needs_background": "light"
          }
        }
      ]
    },
    {
      "cell_type": "markdown",
      "metadata": {
        "id": "UM5sh56n2-DC"
      },
      "source": [
        "_Nuanced quantitative analysis_\n",
        "\n",
        "Configurations 2 use a hidden feature set of 256. The FFNN configuration 2 takes about 1.7 seconds. The RNN config 2 takes about 26 seconds. We run multiple epochs of each to reach the same amount of time. This configuration uses fewer hidden features (256), but keeps the batch size (16) and the same optimizer (adam, lr=.0003) the same in order to make a good comparison to the first configuration.\n",
        "\n",
        "Just above, you can see graphs of our results. The first two compare FFNN train accuracy vs evaluation accuracy. The second compares FFNN loss on training v evaluation. Similarly, the third and fourth graphs compare RNN train accuracy v evaluation accuracy and loss on train v evaluation. /'\n",
        "\n",
        "Our FFNN train accuracy runs as expected, however the evaluation accuracy actually decreases slightly over each epoch. As one would expect given these results, the loss for training decreases over time, but increases slightly for the evaluation.\n",
        "\n",
        "Our RNN train and evaluation accuracy perform similarly, both slightly increasing over time, however the loss remains about the same. Looking more closely at our RNN's accuracy graph however, one can see that the evaluation accuracy significantly ourperforms the training accuracy at all epochs.\n",
        "\n",
        "Due to the limitations of RNN, the FFNN model outperforms our RNN model in both accuracy and loss."
      ]
    },
    {
      "cell_type": "markdown",
      "metadata": {
        "id": "3WnWktoVVkSe"
      },
      "source": [
        "### 3.1.3 Configuration 3\n",
        "Modify the code below for this configuration."
      ]
    },
    {
      "cell_type": "code",
      "metadata": {
        "id": "Y6xpNlMYQDRe"
      },
      "source": [
        "h = 1024\n",
        "train, val, test = fetch_data(train_path, val_path, test_path)\n",
        "vocab = make_vocab(train)\n",
        "vocab, word2index, index2word = make_indices(vocab)\n",
        "train_vectorized = convert_to_vector_representation(train, word2index)\n",
        "val_vectorized = convert_to_vector_representation(val, word2index)\n",
        "test_vectorized = convert_to_vector_representation(test, word2index, True)\n",
        "\n",
        "train_loader, val_loader = get_data_loaders(train_vectorized, val_vectorized, batch_size=16)\n",
        "ffnn_config_3 = FFNN(len(vocab), h, len(emotion_to_idx)).to(get_device())\n",
        "ffnn3tacc, ffnn3tloss, ffnn3eacc, ffnn3eloss = train_and_evaluate(71, ffnn_config_2, train_loader, val_loader)"
      ],
      "execution_count": null,
      "outputs": []
    },
    {
      "cell_type": "code",
      "metadata": {
        "id": "FwzAv_09QEpJ"
      },
      "source": [
        "h = 1024\n",
        "glove_path = os.path.join(os.getcwd(), \"drive\", \"My Drive\", \"CS 4740\", \"Project 3\", \"glove.6B.50d.txt\") # replace based on your Google drive organization\n",
        "glove = pd.read_csv(glove_path, sep=\" \", quoting=3, header=None, index_col=0)\n",
        "glove_embedding = {key: val.values for key, val in glove.T.items()}\n",
        "embMatrix = create_embedding_matrix(word2index, glove_embedding, 50)\n",
        "emb_vocab_size = embMatrix.shape[0]\n",
        "emb_vector_size = embMatrix.shape[1]\n",
        "embedding = nn.Embedding(emb_vocab_size, emb_vector_size)\n",
        "embedding.weight=nn.Parameter(torch.tensor(embMatrix,dtype=torch.float32))\n",
        "train, val, test = fetch_data(train_path, val_path, test_path)\n",
        "vocab = make_vocab(train)\n",
        "vocab, word2index, index2word = make_indices(vocab)\n",
        "train_vectorized = rnn_preprocessing(train, embedding, word2index)\n",
        "val_vectorized = rnn_preprocessing(val, embedding, word2index)\n",
        "test_vectorized = rnn_preprocessing(test, embedding, word2index, True)\n",
        "train_loader, val_loader = get_data_loaders(train_vectorized, val_vectorized, batch_size=16)\n",
        "\n",
        "rnn_config_3 = RNN(len(vocab), h, len(emotion_to_idx)).to(get_device())\n",
        "rnn3tacc, rnn3tloss, rnn3eacc, rnn3eloss = train_and_evaluate_rnn(5, rnn_config_2, train_loader, val_loader)"
      ],
      "execution_count": null,
      "outputs": []
    },
    {
      "cell_type": "code",
      "metadata": {
        "id": "6mYmMJCG0p7G"
      },
      "source": [
        "print(ffnn3tacc, ffnn3tloss, ffnn3eacc, ffnn3eloss)\n",
        "print(rnn3tacc, rnn3tloss, rnn3eacc, rnn3eloss)"
      ],
      "execution_count": null,
      "outputs": []
    },
    {
      "cell_type": "markdown",
      "metadata": {
        "id": "AXbIgduYy3Jf"
      },
      "source": [
        "### 3.1.3 Report\n",
        "Describe configurations, report the results, and then perform a nuanced analysis"
      ]
    },
    {
      "cell_type": "code",
      "metadata": {
        "colab": {
          "base_uri": "https://localhost:8080/",
          "height": 283
        },
        "id": "diafqaYM5mjQ",
        "outputId": "18aa1caf-b5ce-410e-abc8-57c2ce8f4baa"
      },
      "source": [
        "f3ta, = plt.plot(ffnn3tacc, label=\"ffnn config3 train acc\")\n",
        "f3ea, = plt.plot(ffnn3eacc, label=\"ffnn config3 eval acc\")\n",
        "plt.legend(handles=[f3ta, f3ea])\n",
        "plt.ylabel(\"accuracy\")\n",
        "plt.xlabel(\"epoch count\")\n",
        "plt.ylim(0, 1)\n",
        "plt.show()"
      ],
      "execution_count": 120,
      "outputs": [
        {
          "output_type": "display_data",
          "data": {
            "image/png": "[encoded data removed]",
            "text/plain": [
              "<Figure size 432x288 with 1 Axes>"
            ]
          },
          "metadata": {
            "tags": [],
            "needs_background": "light"
          }
        }
      ]
    },
    {
      "cell_type": "code",
      "metadata": {
        "colab": {
          "base_uri": "https://localhost:8080/",
          "height": 545
        },
        "id": "s-u8zg8z5tOQ",
        "outputId": "ce2ad092-a525-4cdd-ac8b-dbf23d12a071"
      },
      "source": [
        "r3ta, = plt.plot(rnn2tacc, label=\"rnn config3 train acc\")\n",
        "r3ea, = plt.plot(rnn2eacc, label=\"rnn config3 eval acc\")\n",
        "plt.legend(handles=[r3ta, r3ea])\n",
        "plt.ylabel(\"accuracy\")\n",
        "plt.xlabel(\"epoch count\")\n",
        "plt.ylim(0, 1)\n",
        "plt.show()\n",
        "r3ta, = plt.plot(rnn3tacc, label=\"rnn config3 train acc\")\n",
        "r3ea, = plt.plot(rnn3eacc, label=\"rnn config3 eval acc\")\n",
        "plt.legend(handles=[r3ta, r3ea])\n",
        "plt.ylabel(\"accuracy\")\n",
        "plt.xlabel(\"epoch count\")\n",
        "plt.show()"
      ],
      "execution_count": 121,
      "outputs": [
        {
          "output_type": "display_data",
          "data": {
            "image/png": "[encoded data removed]",
            "text/plain": [
              "<Figure size 432x288 with 1 Axes>"
            ]
          },
          "metadata": {
            "tags": [],
            "needs_background": "light"
          }
        },
        {
          "output_type": "display_data",
          "data": {
            "image/png": "[encoded data removed]",
            "text/plain": [
              "<Figure size 432x288 with 1 Axes>"
            ]
          },
          "metadata": {
            "tags": [],
            "needs_background": "light"
          }
        }
      ]
    },
    {
      "cell_type": "code",
      "metadata": {
        "colab": {
          "base_uri": "https://localhost:8080/",
          "height": 283
        },
        "id": "DEcDbpdi52WE",
        "outputId": "341fb704-136c-46a7-abba-512b16b47622"
      },
      "source": [
        "f3ts, = plt.plot(ffnn3tloss, label=\"ffnn config3 train loss\")\n",
        "f3es, = plt.plot(ffnn3eloss, label=\"ffnn config3 eval loss\")\n",
        "plt.legend(handles=[f3ts, f3es])\n",
        "plt.ylabel(\"loss\")\n",
        "plt.xlabel(\"epoch count\")\n",
        "plt.ylim(0, 2.5)\n",
        "plt.show()"
      ],
      "execution_count": 126,
      "outputs": [
        {
          "output_type": "display_data",
          "data": {
            "image/png": "[encoded data removed]",
            "text/plain": [
              "<Figure size 432x288 with 1 Axes>"
            ]
          },
          "metadata": {
            "tags": [],
            "needs_background": "light"
          }
        }
      ]
    },
    {
      "cell_type": "code",
      "metadata": {
        "colab": {
          "base_uri": "https://localhost:8080/",
          "height": 283
        },
        "id": "MbAcor-d59ms",
        "outputId": "faacdd12-934b-4f00-de5d-d9f6fbae7160"
      },
      "source": [
        "r2ts, = plt.plot(rnn2tloss, label=\"rnn config2 train loss\")\n",
        "r2es, = plt.plot(rnn2eloss, label=\"rnn config2 eval loss\")\n",
        "plt.legend(handles=[r2ts, r2es])\n",
        "plt.ylabel(\"loss\")\n",
        "plt.xlabel(\"epoch count\")\n",
        "plt.ylim(0, 2.5)\n",
        "plt.show()"
      ],
      "execution_count": 127,
      "outputs": [
        {
          "output_type": "display_data",
          "data": {
            "image/png": "[encoded data removed]",
            "text/plain": [
              "<Figure size 432x288 with 1 Axes>"
            ]
          },
          "metadata": {
            "tags": [],
            "needs_background": "light"
          }
        }
      ]
    },
    {
      "cell_type": "markdown",
      "metadata": {
        "id": "29_f6bu63BGl"
      },
      "source": [
        "_Nuanced quantitative analysis_\n",
        "\n",
        "Configurations 3 use a hidden feature set of 1024. The FFNN configuration 3 takes about 1.8 seconds. The RNN config 3 takes about 25 seconds. This configuration uses more hidden features (1024), but keeps the batch size (16) and the same optimizer (adam, lr=.0003) the same in order to make a good comparison to the first two configurations.\n",
        "\n",
        "Just above, you can see graphs of our results. The first two compare FFNN train accuracy vs evaluation accuracy. The second compares FFNN loss on training v evaluation. Similarly, the third and fourth graphs compare RNN train accuracy v evaluation accuracy and loss on train v evaluation. \n",
        "\n",
        "Our FFNN train accuracy and evaluation accuracy run as expected, however our training accuracy is much closer to perfect than our evaluation accuracy at all epochs. The evaluation accuracy only slighlty increases over time. As one would expect given these results, the loss for training stays near zero over time, but increases slightly for the evaluation after first decreasing slightly.\n",
        "\n",
        "Our RNN train and evaluation accuracy perform similarly, both slightly increasing over time, however the loss remains about the same. Looking more closely at our RNN's accuracy graph however, one can see that the evaluation accuracy drops significantly at the 3rd epoch before going back up on the 4th. It also ourperforms the training accuracy at all epochs despite having higher losses at the end.\n",
        "\n",
        "Due to the limitations of RNN, the FFNN model outperforms our RNN model in both accuracy and loss.\n",
        "\n",
        "\n",
        "Overall, our analyses show that changing the number of hidden features does not significantly impact the performance of either model.\n"
      ]
    },
    {
      "cell_type": "markdown",
      "metadata": {
        "id": "-Of6kWAcfgde"
      },
      "source": [
        "## Part 3.2: Within-model comparison\n",
        "To complement **Part 3.1: Across-Model Comparison**, in **Part 3.2: Within-Model Comparison**, you will need to study what happens when you change parameters within a model. To limit your workload, you need only do this for the RNN; and you may use at most one RNN model from the prior section.\n",
        "\n",
        "In the prior section, we discussed _fair comparison_. Anothr aspect of rigorous experimentation in NLP (and other domains) is the _ablation study_. In this, we _ablate_ or remove aspects of a more complex model, making it less complex, to evaluate whether each aspect was neccessary. To be concrete, for this part, you should train 4 variants of the RNN model and describe them as we do below:\n",
        "\n",
        "1. Baseline model\n",
        "2. Baseline model made more complex by modification $A$ (e.g. changing the hidden dimensionality from $h$ to $2h$).\n",
        "3. Baseline model made more complex by modification $B$ (where $B$ is an entirely distinct/different update from $A$).\n",
        "4. Baseline model with both modificatons $A$ and $B$ applied.\n",
        "\n",
        "Under the framing of an ablation study, you woud describe this as beginning with model 4 and then ablating (i.e. removing) each of the two modifications, in turn; and then removing both to see if they were genuinely neccessary for the performance you observe.\n",
        "\n",
        "Once you describe each of the four models, report the quantitative accuracy as in the previous section. Conclude by performing the **opposite** nuanced analysis from the one you did in the previous section (i.e. if in **Part 3.1: Across-Model Comparison** you did _Nuanced quanitative analysis_, for **Part 3.2: Within-Model Comparison** perform a _Nuanced qualitative analysis_ and vice versa)."
      ]
    },
    {
      "cell_type": "markdown",
      "metadata": {
        "id": "TULtij8lzQpt"
      },
      "source": [
        "### 3.2.1 Configuration 1\n",
        "Modify the code below for this configuration."
      ]
    },
    {
      "cell_type": "code",
      "metadata": {
        "id": "2Eq_yDIGXDFU"
      },
      "source": [
        "h = 512\n",
        "glove_path = os.path.join(os.getcwd(), \"drive\", \"My Drive\", \"CS 4740\", \"Project 3\", \"glove.6B.50d.txt\") # replace based on your Google drive organization\n",
        "glove = pd.read_csv(glove_path, sep=\" \", quoting=3, header=None, index_col=0)\n",
        "glove_embedding = {key: val.values for key, val in glove.T.items()}\n",
        "embMatrix = create_embedding_matrix(word2index, glove_embedding, 50)\n",
        "emb_vocab_size = embMatrix.shape[0]\n",
        "emb_vector_size = embMatrix.shape[1]\n",
        "embedding = nn.Embedding(emb_vocab_size, emb_vector_size)\n",
        "embedding.weight=nn.Parameter(torch.tensor(embMatrix,dtype=torch.float32))\n",
        "train, val, test = fetch_data(train_path, val_path, test_path)\n",
        "vocab = make_vocab(train)\n",
        "vocab, word2index, index2word = make_indices(vocab)\n",
        "train_vectorized = rnn_preprocessing(train, embedding, word2index)\n",
        "val_vectorized = rnn_preprocessing(val, embedding, word2index)\n",
        "test_vectorized = rnn_preprocessing(test, embedding, word2index, True)\n",
        "train_loader, val_loader = get_data_loaders(train_vectorized, val_vectorized, batch_size=128)\n",
        "\n",
        "baseline_rnn = RNN(len(vocab), h, len(emotion_to_idx)).to(get_device())\n",
        "rnnc1tacc, rnnc1tloss, rnnc1eacc, rnnc1eloss = train_and_evaluate_rnn(5, rnn_config_1, train_loader, val_loader)"
      ],
      "execution_count": null,
      "outputs": []
    },
    {
      "cell_type": "markdown",
      "metadata": {
        "id": "ILuGuDpfzT7A"
      },
      "source": [
        "### 3.2.1 Report\n",
        "Describe variants in the ablation style described, report the results, and then perform a nuanced analysis of the opposite type as before."
      ]
    },
    {
      "cell_type": "code",
      "metadata": {
        "colab": {
          "base_uri": "https://localhost:8080/"
        },
        "id": "Oda44jfsnpUD",
        "outputId": "8140d58d-c531-4fd2-ac6b-f53aa1892e13"
      },
      "source": [
        "print(rnnc1tacc, rnnc1tloss, rnnc1eacc, rnnc1eloss)"
      ],
      "execution_count": 93,
      "outputs": [
        {
          "output_type": "stream",
          "text": [
            "[0.2339, 0.2385, 0.2488, 0.249, 0.249] [1.5261167287826538, 1.5055145025253296, 1.5730197429656982, 1.5334091186523438, 1.631421685218811] [0.25533596837944667, 0.2545454545454545, 0.2490118577075099, 0.2426877470355731, 0.258498023715415] [1.592067837715149, 1.5858739614486694, 1.5876654386520386, 1.5847456455230713, 1.5720815658569336]\n"
          ],
          "name": "stdout"
        }
      ]
    },
    {
      "cell_type": "markdown",
      "metadata": {
        "id": "4kSddhDL3Eiq"
      },
      "source": [
        "The baseline RNN uses 512 hidden layers, a batch size of 128, and a 50 feature word embedding trained on 6B tokens from wikipedia 2014 and gigaword 5. The final result was training accuracy of 25% and a loss of 1.6, and an evaulation accuracy of almost 26% and a loss of 1.57.\n",
        "\n",
        "_Nuanced qualitative analysis_\n",
        "\n",
        "We attempted to use many different types of sentences to see what this baseline RNN would predict the emotion was, however all of the sentences resulted in \"joy\".\n",
        "Sentences we tried include: \n",
        "\n",
        "*   \"i hate nlp\" to get the hate emotion\n",
        "*   \"nlp is a scary class' to get the fear emotion\n",
        "*   \"i enjoy coding for nlp\" to get the joy emotion\n",
        "*   \"nlp is my favorite class\" to get the love emotion\n",
        "*   \"nlp makes me sad\" to get the sad emotion\n",
        "\n",
        "Some hypothesis for why this is as follows: our RNN must be heavily biased towards one emotion (joy). This would explain why our results are consistently only slightly above 20% (our RNN is heavily biased to 1/5 of the emotions and therefore predicts correctly 1 in 5 times).\n",
        "\n"
      ]
    },
    {
      "cell_type": "markdown",
      "metadata": {
        "id": "x2Q4LpZOzxa6"
      },
      "source": [
        "### 3.2.2 Configuration 2\n",
        "Modify the code below for this configuration."
      ]
    },
    {
      "cell_type": "code",
      "metadata": {
        "id": "DkH0n9n_XH-_"
      },
      "source": [
        "h = 512\n",
        "glove_path = os.path.join(os.getcwd(), \"drive\", \"My Drive\", \"CS 4740\", \"Project 3\", \"glove.6B.50d.txt\") # replace based on your Google drive organization\n",
        "glove = pd.read_csv(glove_path, sep=\" \", quoting=3, header=None, index_col=0)\n",
        "glove_embedding = {key: val.values for key, val in glove.T.items()}\n",
        "embMatrix = create_embedding_matrix(word2index, glove_embedding, 50)\n",
        "emb_vocab_size = embMatrix.shape[0]\n",
        "emb_vector_size = embMatrix.shape[1]\n",
        "embedding = nn.Embedding(emb_vocab_size, emb_vector_size)\n",
        "embedding.weight=nn.Parameter(torch.tensor(embMatrix,dtype=torch.float32))\n",
        "train, val, test = fetch_data(train_path, val_path, test_path)\n",
        "vocab = make_vocab(train)\n",
        "vocab, word2index, index2word = make_indices(vocab)\n",
        "train_vectorized = rnn_preprocessing(train, embedding, word2index)\n",
        "val_vectorized = rnn_preprocessing(val, embedding, word2index)\n",
        "test_vectorized = rnn_preprocessing(test, embedding, word2index, True)\n",
        "train_loader, val_loader = get_data_loaders(train_vectorized, val_vectorized, batch_size=256)\n",
        "\n",
        "mod_a_rnn = RNN(len(vocab), h, len(emotion_to_idx)).to(get_device())\n",
        "rnnc2tacc, rnnc2tloss, rnnc2eacc, rnnc2eloss = train_and_evaluate_rnn(5, rnn_config_1, train_loader, val_loader)"
      ],
      "execution_count": null,
      "outputs": []
    },
    {
      "cell_type": "markdown",
      "metadata": {
        "id": "1GdWOwZGz3OQ"
      },
      "source": [
        "### 3.2.2 Report\n",
        "Describe variants in the ablation style described, report the results, and then perform a nuanced analysis of the opposite type as before."
      ]
    },
    {
      "cell_type": "code",
      "metadata": {
        "colab": {
          "base_uri": "https://localhost:8080/"
        },
        "id": "f5OwzyeFntOh",
        "outputId": "7cb7e9e3-1cc6-48b8-f9ea-0121443c453f"
      },
      "source": [
        "print(rnnc2tacc, rnnc2tloss, rnnc2eacc, rnnc2eloss)"
      ],
      "execution_count": 99,
      "outputs": [
        {
          "output_type": "stream",
          "text": [
            "[0.2566, 0.2542, 0.2525, 0.2576, 0.2538] [1.5943230390548706, 1.5493183135986328, 1.4506641626358032, 1.5588858127593994, 1.4211088418960571] [0.28063241106719367, 0.26324110671936757, 0.26403162055335966, 0.25691699604743085, 0.2758893280632411] [1.567955493927002, 1.5692830085754395, 1.570223093032837, 1.569632649421692, 1.563428282737732]\n"
          ],
          "name": "stdout"
        }
      ]
    },
    {
      "cell_type": "markdown",
      "metadata": {
        "id": "GyqXcmap3Hm8"
      },
      "source": [
        "The 2nd configuration of RNN uses 512 hidden layers and the same 50 feature word embedding trained on 6B tokens from wikipedia 2014 and gigaword 5, but this time it used a batch size of 256. The final result was training accuracy of 25.4% and a loss of 1.4, and an evaulation accuracy of 27.5%% and a loss of 1.56.\n",
        "\n",
        "_Nuanced qualitative analysis_\n",
        "\n",
        "We attempted to use many different types of sentences to see what this baseline RNN would predict the emotion was, however all of the sentences resulted in \"fear\".\n",
        "Sentences we tried include: \n",
        "\n",
        "*   \"i hate nlp\" to get the hate emotion\n",
        "*   \"nlp is a scary class' to get the fear emotion\n",
        "*   \"i enjoy coding for nlp\" to get the joy emotion\n",
        "*   \"nlp is my favorite class\" to get the love emotion\n",
        "*   \"nlp makes me sad\" to get the sad emotion\n",
        "\n",
        "Some hypothesis for why this is as follows: our RNN must be heavily biased towards one emotion (fear). This would explain why our results are consistently only slightly above 20% (our RNN is heavily biased to 1/5 of the emotions and therefore predicts correctly 1 in 5 times).\n",
        "\n"
      ]
    },
    {
      "cell_type": "markdown",
      "metadata": {
        "id": "mVG-Pqa9z60-"
      },
      "source": [
        "### 3.2.3 Configuration 3\n",
        "Modify the code below for this configuration."
      ]
    },
    {
      "cell_type": "code",
      "metadata": {
        "id": "4WsI_BPpGJ5r"
      },
      "source": [
        "h = 512\n",
        "glove_path = os.path.join(os.getcwd(), \"drive\", \"My Drive\", \"CS 4740\", \"Project 3\", \"glove.twitter.27B.100d.txt\") # replace based on your Google drive organization\n",
        "glove = pd.read_csv(glove_path, sep=\" \", quoting=3, header=None, index_col=0)\n",
        "glove_embedding = {key: val.values for key, val in glove.T.items()}\n",
        "embMatrix = create_embedding_matrix(word2index, glove_embedding, 100)\n",
        "emb_vocab_size = embMatrix.shape[0]\n",
        "emb_vector_size = embMatrix.shape[1]\n",
        "embedding = nn.Embedding(emb_vocab_size, emb_vector_size)\n",
        "embedding.weight=nn.Parameter(torch.tensor(embMatrix,dtype=torch.float32))\n",
        "train, val, test = fetch_data(train_path, val_path, test_path)\n",
        "vocab = make_vocab(train)\n",
        "vocab, word2index, index2word = make_indices(vocab)\n",
        "train_vectorized = rnn_preprocessing(train, embedding, word2index, embeddim=100)\n",
        "val_vectorized = rnn_preprocessing(val, embedding, word2index, embeddim=100)\n",
        "test_vectorized = rnn_preprocessing(test, embedding, word2index, True, embeddim=100)\n",
        "train_loader, val_loader = get_data_loaders(train_vectorized, val_vectorized, batch_size=128)\n",
        "\n",
        "mod_b_rnn = RNN(len(vocab), h, len(emotion_to_idx), 100).to(get_device())\n",
        "rnnc3tacc, rnnc3tloss, rnnc3eacc, rnnc3eloss =  train_and_evaluate_rnn(5, mod_b_rnn, train_loader, val_loader)"
      ],
      "execution_count": null,
      "outputs": []
    },
    {
      "cell_type": "markdown",
      "metadata": {
        "id": "h9mNRTAhz8gf"
      },
      "source": [
        "### 3.2.3 Report\n",
        "Describe variants in the ablation style described, report the results, and then perform a nuanced analysis of the opposite type as before."
      ]
    },
    {
      "cell_type": "code",
      "metadata": {
        "colab": {
          "base_uri": "https://localhost:8080/"
        },
        "id": "CqQKkAI4nvzR",
        "outputId": "d24050e1-f8fb-41fa-c3f1-0f04dd0ebb38"
      },
      "source": [
        "print(rnnc3tacc, rnnc3tloss, rnnc3eacc, rnnc3eloss)"
      ],
      "execution_count": 105,
      "outputs": [
        {
          "output_type": "stream",
          "text": [
            "[0.2322, 0.2444, 0.2474, 0.2485, 0.2495] [1.5306761264801025, 1.6360373497009277, 1.4925419092178345, 1.5993467569351196, 1.656813383102417] [0.25059288537549407, 0.25059288537549407, 0.27430830039525694, 0.25612648221343876, 0.26798418972332017] [1.590232253074646, 1.5857242345809937, 1.5789169073104858, 1.5779848098754883, 1.5724223852157593]\n"
          ],
          "name": "stdout"
        }
      ]
    },
    {
      "cell_type": "markdown",
      "metadata": {
        "id": "jJSSzAkv3KWl"
      },
      "source": [
        "The 3rd configuration of RNN uses 512 hidden layers and the same batch size of 128 as the baseline, but instead of the 50 feature word embedding trained on 6B tokens from wikipedia 2014 and gigaword 5, this configuration uses a 100 feature word embedding trained on 26B tokens from 2B tweets.The final result was training accuracy of 25% and a loss of 1.65, and an evaulation accuracy of 25.7%% and a loss of 1.57.\n",
        "\n",
        "_Nuanced qualitative analysis_\n",
        "\n",
        "We attempted to use many different types of sentences to see what this baseline RNN would predict the emotion was, however all of the sentences resulted in \"fear\".\n",
        "Sentences we tried include: \n",
        "\n",
        "*   \"i hate nlp\" to get the hate emotion\n",
        "*   \"nlp is a scary class' to get the fear emotion\n",
        "*   \"i enjoy coding for nlp\" to get the joy emotion\n",
        "*   \"nlp is my favorite class\" to get the love emotion\n",
        "*   \"nlp makes me sad\" to get the sad emotion\n",
        "\n",
        "Some hypothesis for why this is as follows: our RNN must be heavily biased towards one emotion (love). This would explain why our results are consistently only slightly above 20% (our RNN is heavily biased to 1/5 of the emotions and therefore predicts correctly 1 in 5 times).\n",
        "\n"
      ]
    },
    {
      "cell_type": "markdown",
      "metadata": {
        "id": "tfukYWxcz-Za"
      },
      "source": [
        "### 3.2.4 Configuration 4\n",
        "Modify the code below for this configuration."
      ]
    },
    {
      "cell_type": "code",
      "metadata": {
        "id": "dNhGf1-zXZbF"
      },
      "source": [
        "h = 512\n",
        "glove_path = os.path.join(os.getcwd(), \"drive\", \"My Drive\", \"CS 4740\", \"Project 3\", \"glove.twitter.27B.100d.txt\") # replace based on your Google drive organization\n",
        "glove = pd.read_csv(glove_path, sep=\" \", quoting=3, header=None, index_col=0)\n",
        "glove_embedding = {key: val.values for key, val in glove.T.items()}\n",
        "embMatrix = create_embedding_matrix(word2index, glove_embedding, 100)\n",
        "emb_vocab_size = embMatrix.shape[0]\n",
        "emb_vector_size = embMatrix.shape[1]\n",
        "embedding = nn.Embedding(emb_vocab_size, emb_vector_size)\n",
        "embedding.weight=nn.Parameter(torch.tensor(embMatrix,dtype=torch.float32))\n",
        "train, val, test = fetch_data(train_path, val_path, test_path)\n",
        "vocab = make_vocab(train)\n",
        "vocab, word2index, index2word = make_indices(vocab)\n",
        "train_vectorized = rnn_preprocessing(train, embedding, word2index, embeddim=100)\n",
        "val_vectorized = rnn_preprocessing(val, embedding, word2index, embeddim=100)\n",
        "test_vectorized = rnn_preprocessing(test, embedding, word2index, True, embeddim=100)\n",
        "train_loader, val_loader = get_data_loaders(train_vectorized, val_vectorized, batch_size=256)\n",
        "\n",
        "both_mods_rnn = RNN(len(vocab), h, len(emotion_to_idx), embeddim=100).to(get_device())\n",
        "rnnc4tacc, rnnc4tloss, rnnc4eacc, rnnc4eloss = train_and_evaluate_rnn(5, both_mods_rnn, train_loader, val_loader)"
      ],
      "execution_count": null,
      "outputs": []
    },
    {
      "cell_type": "markdown",
      "metadata": {
        "id": "-CiPPaO-0Dmy"
      },
      "source": [
        "### 3.2.4 Report\n",
        "Describe variants in the ablation style described, report the results, and then perform a nuanced analysis of the opposite type as before."
      ]
    },
    {
      "cell_type": "code",
      "metadata": {
        "colab": {
          "base_uri": "https://localhost:8080/"
        },
        "id": "sQJcx47In0OQ",
        "outputId": "749992b5-83fc-4581-ba26-3a936a62c2ab"
      },
      "source": [
        "print(rnnc4tacc, rnnc4tloss, rnnc4eacc, rnnc4eloss)"
      ],
      "execution_count": 107,
      "outputs": [
        {
          "output_type": "stream",
          "text": [
            "[0.2263, 0.2359, 0.2421, 0.2486, 0.2531] [1.6506098508834839, 1.6512072086334229, 1.6259254217147827, 1.5611549615859985, 1.5773097276687622] [0.23715415019762845, 0.25059288537549407, 0.2450592885375494, 0.25217391304347825, 0.26956521739130435] [1.591841220855713, 1.5879100561141968, 1.586859107017517, 1.5876520872116089, 1.5700273513793945]\n"
          ],
          "name": "stdout"
        }
      ]
    },
    {
      "cell_type": "markdown",
      "metadata": {
        "id": "81c2YMpY3MYH"
      },
      "source": [
        "The 4th configuration of RNN uses 1024 hidden layers and a 100 feature word embedding trained on 26B tokens from 2B tweets. The final result was an accuracy of 22% and a loss of 4.8.\n",
        "\n",
        "The 4th configuration RNN uses 512 hidden layers and the same batch size of 256 as the 2nd config and the 100 feature word embedding trained on 26B tokens from 2B tweets from the 3rd configuration. The final result was training accuracy of 25.3% and a loss of 1.577, and an evaulation accuracy of almost 27% and a loss of 1.57.\n",
        "\n",
        "_Nuanced qualitative analysis_\n",
        "\n",
        "Similar to the first three configurations, we attempted to use many different types of sentences to see what this baseline RNN would predict the emotion was. This time however we were not satisfied with getting all results the same emotion and running it multiple times, we found that although each time we train the model, the model results in the same emotion for each sentence we tried, this emotion varied. Running the baseline model again, we saw that instead of producing all joy, we got all fear, similarly for the 2nd and 3rd configuration, retraining the model led to a different single result.\n",
        "\n",
        "This leads us to believe more strongly in our hypothesis that our RNN is heavily biased towards one emotion, and that our RNN must in some way be randomly learning this bias during training. As mentioned previously, this would explain why our results are consistently only slightly above 20% (our RNN is heavily biased to 1/5 of the emotions and therefore predicts correctly 1 in 5 times). It also explains our new finding that this bias changes each time we train the model. \n",
        "\n",
        "We do not know why the model is biased the way it is.\n",
        "\n"
      ]
    },
    {
      "cell_type": "markdown",
      "metadata": {
        "id": "ACmdw-pyh4Lj"
      },
      "source": [
        "# Part 4: Questions\n",
        "In **Part 4**, you will need to answer the three questions below. We expect answers tobe to-the-point; answers that are vague, meandering, or imprecise **will receive fewer points** than a precise but partially correct answer."
      ]
    },
    {
      "cell_type": "markdown",
      "metadata": {
        "id": "juQW_iF_ETtg"
      },
      "source": [
        "## 4.1 Q1\n",
        "Earlier in the course, we studied models that make use of _Markov_ assumptions. Recurrent neural networks do not make any such assumption. That said, RNNs are known to struggle with long-distance dependencies. What is a fundamental reason for why this is the case?"
      ]
    },
    {
      "cell_type": "markdown",
      "metadata": {
        "id": "HIZAmdtoVpBK"
      },
      "source": [
        "The fundamental reason RNNs struggle with long-distance dependencies is because they work word by word, so as distances between dependencies increase, past information is lost."
      ]
    },
    {
      "cell_type": "markdown",
      "metadata": {
        "id": "8CmtdmOWEboE"
      },
      "source": [
        "## 4.2 Q2\n",
        "In applying RNNs to tasks in NLP, we have discovered that (at least for tasks in English) feeding a sentence into an RNN backwards (i.e. inputting the sequence of vectors corresponding to ($course$, $great$, $a$, $is$, $NLP$) instead of ($NLP$, $is$, $a$, $great$, $course$)) tends to improve performance. Why might this be the case?"
      ]
    },
    {
      "cell_type": "markdown",
      "metadata": {
        "id": "i69IrRd4Vpdh"
      },
      "source": [
        "In English, Context-sensitive grammar exists, which means that with each word, there are left contexts and right contexts for how sentences are constructed. RNNs might be performing better when fed sentences backwards as a result of learning right contexts better than left contexts.\n"
      ]
    },
    {
      "cell_type": "markdown",
      "metadata": {
        "id": "zB6y4__iEk6_"
      },
      "source": [
        "## 4.3 Q3\n",
        "In using RNNs and word embeddings for NLP tasks, we are no longer required to engineer specific features that are useful for the task; the model discovers them automatically. Stated differently, it seems that neural models tend to discover better features than human researchers can directly specify. This comes at the cost of systems having to consume tremendous amounts of data to learn these kinds of patterns from the data. Beyond concerns of dataset size (and the computational resources required to process and train using this data as well as the further environmental harm that results from this process), why might we disfavor RNN models?"
      ]
    },
    {
      "cell_type": "markdown",
      "metadata": {
        "id": "cOdh784UVp9f"
      },
      "source": [
        "Besides the previously listed concerns, another reason we might disfavor RNN models would be difficulty controlling biases. Since neural nets discover features automattically, it might be more difficult to prevent the model from learning unwanted biases that occur in society like racism and sexism. These biases would be learned during training as a result of the societal bias in the data, something that would be hard to control for since a lot of data is necessary for these models to do well."
      ]
    },
    {
      "cell_type": "markdown",
      "metadata": {
        "id": "bD0pgD0Jh84T"
      },
      "source": [
        "# Part 5: Miscellaneous\n",
        "List the libraries you used and sources you referenced and cited (labelled with the section in which you referred to them). Include a description of how your group split\n",
        "up the work. Include brief feedback on this asignment."
      ]
    },
    {
      "cell_type": "markdown",
      "metadata": {
        "id": "rHJPV7pJj0QH"
      },
      "source": [
        "The only source referenced that was not class notes, the class textbook, the OH torch tutorial, or official documentation was:\n",
        "\n",
        "https://androidkt.com/pre-train-word-embedding-in-pytorch/\n",
        "\n",
        "This source was used to help obtain and use the pretrained glove embeddings."
      ]
    },
    {
      "cell_type": "markdown",
      "metadata": {
        "id": "snL2qqbR3SbN"
      },
      "source": [
        "We took turns pair programming, with one partner typing up code while the other dictated the code and ideas for what to implement. All work was done together."
      ]
    },
    {
      "cell_type": "markdown",
      "metadata": {
        "id": "4VeQ8uBwiR-a"
      },
      "source": [
        "**Each section must be clearly labelled, complete, and the corresponding pages should be correctly assigned to the corresponding Gradescope rubric item.** If you follow these steps for each of the 4 components requested, you are guaranteed full credit for this section. Otherwise, you will receive no credit for this section."
      ]
    },
    {
      "cell_type": "markdown",
      "metadata": {
        "id": "kqPxplOuZ876"
      },
      "source": [
        "# Part 6: Kaggle Submission"
      ]
    },
    {
      "cell_type": "code",
      "metadata": {
        "id": "hsmj5Xmckrb8"
      },
      "source": [
        "h = 512\n",
        "glove_path = os.path.join(os.getcwd(), \"drive\", \"My Drive\", \"CS 4740\", \"Project 3\", \"glove.6B.50d.txt\") # replace based on your Google drive organization\n",
        "glove = pd.read_csv(glove_path, sep=\" \", quoting=3, header=None, index_col=0)\n",
        "glove_embedding = {key: val.values for key, val in glove.T.items()}\n",
        "embMatrix = create_embedding_matrix(word2index, glove_embedding, 50)\n",
        "emb_vocab_size = embMatrix.shape[0]\n",
        "emb_vector_size = embMatrix.shape[1]\n",
        "embedding = nn.Embedding(emb_vocab_size, emb_vector_size)\n",
        "embedding.weight=nn.Parameter(torch.tensor(embMatrix,dtype=torch.float32))\n",
        "train, val, test = fetch_data(train_path, val_path, test_path)\n",
        "vocab = make_vocab(train)\n",
        "vocab, word2index, index2word = make_indices(vocab)\n",
        "train_vectorized = rnn_preprocessing(train, embedding, word2index)\n",
        "val_vectorized = rnn_preprocessing(val, embedding, word2index)\n",
        "test_vectorized = rnn_preprocessing(test, embedding, word2index, True)\n",
        "train_loader, val_loader = get_data_loaders(train_vectorized, val_vectorized, batch_size=1)\n",
        "\n",
        "rnn_config_1 = RNN(len(vocab), h, len(emotion_to_idx)).to(get_device())\n"
      ],
      "execution_count": 78,
      "outputs": []
    },
    {
      "cell_type": "code",
      "metadata": {
        "id": "K5wMEwKX_4Hs"
      },
      "source": [
        "# Create Kaggle submission function\n",
        "kaggle_model = RNN(len(vocab), h, len(emotion_to_idx)).to(get_device())\n",
        "# rnn_document_preprocessor = lambda x: rnn_preprocessor(x, True) # This is for your RNN\n",
        "rnn_document_preprocessor = lambda x: rnn_preprocessing(x, embedding, word2index, True, embeddim=50) # This is for your RNN\n",
        "\n",
        "file_name = \"submission.csv\"\n",
        "ffnn_document_preprocessor = lambda x: convert_to_vector_representation(x, word2index, True)"
      ],
      "execution_count": 79,
      "outputs": []
    },
    {
      "cell_type": "code",
      "metadata": {
        "id": "zFc6rb5y8ScE"
      },
      "source": [
        "def generate_submission(filename, model, document_preprocessor, test):\n",
        "    test_vectorized = document_preprocessor(test)\n",
        "    with Path(file_name).open(\"w\") as fp:\n",
        "        fp.write(\"Id,Predicted\\n\")\n",
        "        for idx, input_vector in tqdm(enumerate(test_vectorized), total=len(test_vectorized)):\n",
        "            # print(\"iv\", input_vector.size(), input_vector)\n",
        "            output = model(torch.Tensor(input_vector).unsqueeze(0).to(get_device())).cpu()#.squeeze(0)\n",
        "            _, pred = torch.max(output, 1)\n",
        "            fp.write(f\"{idx},{int(pred)}\\n\")\n",
        "    return"
      ],
      "execution_count": null,
      "outputs": []
    },
    {
      "cell_type": "code",
      "metadata": {
        "id": "wu2n9Kn9-c1U",
        "colab": {
          "base_uri": "https://localhost:8080/",
          "height": 66,
          "referenced_widgets": [
            "70d7d2362e6843e2be425654226efcdc",
            "66c034c8c6c14daf91841a159ee3f953",
            "f94125c05bfb4ea895f4f1a1ca3987d7",
            "3917cdcc1d034a14b5e9765437fa290c",
            "ed6e2c1b32eb447499d06117a5ba69a1",
            "1b9b8cc52511442393939fb8135615db",
            "da746adbd8eb4c75a4ea37fa3feb6b4f",
            "9709291e6d0845cfa3fbe9c0e8357afe"
          ]
        },
        "outputId": "ff52a020-444e-48e0-f371-fba5b954f12c"
      },
      "source": [
        "generate_submission(file_name, kaggle_model, rnn_document_preprocessor, test)"
      ],
      "execution_count": null,
      "outputs": [
        {
          "output_type": "display_data",
          "data": {
            "application/vnd.jupyter.widget-view+json": {
              "model_id": "70d7d2362e6843e2be425654226efcdc",
              "version_minor": 0,
              "version_major": 2
            },
            "text/plain": [
              "HBox(children=(FloatProgress(value=0.0, max=1934.0), HTML(value='')))"
            ]
          },
          "metadata": {
            "tags": []
          }
        },
        {
          "output_type": "stream",
          "text": [
            "\n"
          ],
          "name": "stdout"
        }
      ]
    },
    {
      "cell_type": "markdown",
      "metadata": {
        "id": "8nu4zL4nWnGB"
      },
      "source": [
        "# Live running demo"
      ]
    },
    {
      "cell_type": "code",
      "metadata": {
        "cellView": "form",
        "id": "4qO4HFGI92-5",
        "colab": {
          "base_uri": "https://localhost:8080/",
          "height": 118
        },
        "outputId": "b326f25e-9f30-456a-d228-3e3df12407b0"
      },
      "source": [
        "#@title Emotion Detection\n",
        "#@markdown Enter a sentence to see the emotion\n",
        "input_string = \"i love nlp\" #@param {type:\"string\"}\n",
        "model_type = \"baseline_rnn\" #@param [\"baseline_ffnn\", \"baseline_rnn\", \"mod_a_rnn\", \"mod_b_rnn\", \"both_mods_rnn\", \"ffnn_config_1\", \"rnn_config_1\", \"ffnn_config_2\", \"rnn_config_2\", \"ffnn_config_3\", \"rnn_config_3\"]\n",
        "from IPython.display import HTML\n",
        "\n",
        "output = \"\"\n",
        "\n",
        "# BAD THING TO DO BELOW!!\n",
        "model_used = globals()[model_type]\n",
        "\n",
        "with torch.no_grad():\n",
        "    if \"ffnn\" in model_type:\n",
        "        vec_in = ffnn_document_preprocessor([[input_string]])[0]\n",
        "        model_output = model_used(torch.Tensor(vec_in).unsqueeze(0)).cpu().squeeze(0)\n",
        "    else:\n",
        "        # RUN MODEL\n",
        "        vec_in = rnn_document_preprocessor([[input_string]])[0]\n",
        "        model_output = model_used(torch.Tensor(vec_in).unsqueeze(0)).cpu().squeeze(0)\n",
        "    #print(torch.cat([torch.Tensor(z).unsqueeze(0) for z in model_inputs]).unsqueeze(0).shape)\n",
        "    #model_output = model_used(torch.cat([torch.Tensor(z).unsqueeze(0) for z in model_inputs]).unsqueeze(0))\n",
        "    #print(model_output.shape)\n",
        "predicted = torch.argmax(model_output)\n",
        "# MAP BACK TO EMOTION\n",
        "# print(int(predicted))\n",
        "emotion = idx_to_emotion[int(predicted)]\n",
        "\n",
        "# Generate nice display\n",
        "output += '<p style=\"font-family:verdana; font-size:110%;\">'\n",
        "output += \" Input sequence: \"+input_string+\"</p>\"\n",
        "output += '<p style=\"font-family:verdana; font-size:110%;\">'\n",
        "output += f\" Emotion detected: {emotion}</p><hr>\"\n",
        "output = \"<h3>Results:</h3>\" + output\n",
        "\n",
        "display(HTML(output))"
      ],
      "execution_count": 84,
      "outputs": [
        {
          "output_type": "display_data",
          "data": {
            "text/html": [
              "<h3>Results:</h3><p style=\"font-family:verdana; font-size:110%;\"> Input sequence: i love nlp</p><p style=\"font-family:verdana; font-size:110%;\"> Emotion detected: fear</p><hr>"
            ],
            "text/plain": [
              "<IPython.core.display.HTML object>"
            ]
          },
          "metadata": {
            "tags": []
          }
        }
      ]
    },
    {
      "cell_type": "code",
      "metadata": {
        "id": "L-ZBES0qfyMn"
      },
      "source": [
        ""
      ],
      "execution_count": null,
      "outputs": []
    }
  ]
}